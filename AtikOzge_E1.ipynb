{
 "cells": [
  {
   "cell_type": "raw",
   "id": "ec6c248c-d4e5-4755-8238-577df625e660",
   "metadata": {},
   "source": [
    "Scientific Programming - Exercise 1\n",
    "\n",
    "Özge Atik - 20180808075\n",
    "\n",
    "# 1 Basics"
   ]
  },
  {
   "cell_type": "raw",
   "id": "7553c2b6-4b3a-4979-bb00-b27ff8e1cc14",
   "metadata": {},
   "source": [
    "Exercise 1.1: The Interpreter"
   ]
  },
  {
   "cell_type": "code",
   "execution_count": 1,
   "id": "44d8d6d2-9798-4969-bd5c-c8f10bf71257",
   "metadata": {},
   "outputs": [
    {
     "data": {
      "text/plain": [
       "4"
      ]
     },
     "execution_count": 1,
     "metadata": {},
     "output_type": "execute_result"
    }
   ],
   "source": [
    "3+1"
   ]
  },
  {
   "cell_type": "code",
   "execution_count": 2,
   "id": "f37e2d4d-2515-486b-86f8-25a293f14f0a",
   "metadata": {},
   "outputs": [
    {
     "data": {
      "text/plain": [
       "9"
      ]
     },
     "execution_count": 2,
     "metadata": {},
     "output_type": "execute_result"
    }
   ],
   "source": [
    "3*3"
   ]
  },
  {
   "cell_type": "code",
   "execution_count": 3,
   "id": "d307181b-3361-45e2-988f-3a39f85b99e1",
   "metadata": {},
   "outputs": [
    {
     "data": {
      "text/plain": [
       "8"
      ]
     },
     "execution_count": 3,
     "metadata": {},
     "output_type": "execute_result"
    }
   ],
   "source": [
    "2 ** 3"
   ]
  },
  {
   "cell_type": "code",
   "execution_count": 5,
   "id": "79b964c1-80bf-48d1-9d89-17d04e75b607",
   "metadata": {},
   "outputs": [
    {
     "data": {
      "text/plain": [
       "'Hello, world!'"
      ]
     },
     "execution_count": 5,
     "metadata": {},
     "output_type": "execute_result"
    }
   ],
   "source": [
    "\"Hello, world!\""
   ]
  },
  {
   "cell_type": "raw",
   "id": "f2aa869f-de92-49d8-ac1c-f9020f821119",
   "metadata": {},
   "source": [
    "Exercise 1.2: Scripts\n",
    "\n",
    "When I copy and run the script nothing happens. Then I add printf to every line and I get the same results as above."
   ]
  },
  {
   "cell_type": "raw",
   "id": "42d3a484-47c1-40bc-bae1-7bd733612a59",
   "metadata": {},
   "source": [
    "Exercise 1.3: More interpreter"
   ]
  },
  {
   "cell_type": "code",
   "execution_count": 6,
   "id": "44e2c623-334b-4aa2-a8c2-5b0617655edf",
   "metadata": {},
   "outputs": [
    {
     "data": {
      "text/plain": [
       "'python'"
      ]
     },
     "execution_count": 6,
     "metadata": {},
     "output_type": "execute_result"
    }
   ],
   "source": [
    "'py' + 'thon'"
   ]
  },
  {
   "cell_type": "raw",
   "id": "44e4b02f-bcc2-463f-b1d0-d3a845a5672e",
   "metadata": {},
   "source": [
    "Since both are string, they are added together as they are."
   ]
  },
  {
   "cell_type": "code",
   "execution_count": 7,
   "id": "e874ee7c-2002-496b-a41c-6ec84cb5a587",
   "metadata": {},
   "outputs": [
    {
     "data": {
      "text/plain": [
       "'pypypython'"
      ]
     },
     "execution_count": 7,
     "metadata": {},
     "output_type": "execute_result"
    }
   ],
   "source": [
    "'py' * 3 + 'thon'"
   ]
  },
  {
   "cell_type": "raw",
   "id": "045b5f6e-8166-40de-8559-134ab44eb8d0",
   "metadata": {},
   "source": [
    "Multiplies the 'py' string with 3 and adds it to the second part."
   ]
  },
  {
   "cell_type": "code",
   "execution_count": 8,
   "id": "79089114-0785-4537-868f-6d3c465a7293",
   "metadata": {},
   "outputs": [
    {
     "ename": "TypeError",
     "evalue": "unsupported operand type(s) for -: 'str' and 'str'",
     "output_type": "error",
     "traceback": [
      "\u001b[1;31m---------------------------------------------------------------------------\u001b[0m",
      "\u001b[1;31mTypeError\u001b[0m                                 Traceback (most recent call last)",
      "Input \u001b[1;32mIn [8]\u001b[0m, in \u001b[0;36m<cell line: 1>\u001b[1;34m()\u001b[0m\n\u001b[1;32m----> 1\u001b[0m \u001b[38;5;124;43m'\u001b[39;49m\u001b[38;5;124;43mpy\u001b[39;49m\u001b[38;5;124;43m'\u001b[39;49m\u001b[43m \u001b[49m\u001b[38;5;241;43m-\u001b[39;49m\u001b[43m \u001b[49m\u001b[38;5;124;43m'\u001b[39;49m\u001b[38;5;124;43mpy\u001b[39;49m\u001b[38;5;124;43m'\u001b[39;49m\n",
      "\u001b[1;31mTypeError\u001b[0m: unsupported operand type(s) for -: 'str' and 'str'"
     ]
    }
   ],
   "source": [
    "'py' - 'py'"
   ]
  },
  {
   "cell_type": "raw",
   "id": "f22f91e1-e8ec-483f-95d7-2f518d32d7bf",
   "metadata": {},
   "source": [
    "Gives an error since extraction is not supported for strings"
   ]
  },
  {
   "cell_type": "code",
   "execution_count": 10,
   "id": "32887a79-82d3-4bf2-b05e-d33743d37638",
   "metadata": {},
   "outputs": [
    {
     "ename": "TypeError",
     "evalue": "can only concatenate str (not \"int\") to str",
     "output_type": "error",
     "traceback": [
      "\u001b[1;31m---------------------------------------------------------------------------\u001b[0m",
      "\u001b[1;31mTypeError\u001b[0m                                 Traceback (most recent call last)",
      "Input \u001b[1;32mIn [10]\u001b[0m, in \u001b[0;36m<cell line: 1>\u001b[1;34m()\u001b[0m\n\u001b[1;32m----> 1\u001b[0m \u001b[38;5;124;43m'\u001b[39;49m\u001b[38;5;124;43m3\u001b[39;49m\u001b[38;5;124;43m'\u001b[39;49m\u001b[43m \u001b[49m\u001b[38;5;241;43m+\u001b[39;49m\u001b[43m \u001b[49m\u001b[38;5;241;43m3\u001b[39;49m\n",
      "\u001b[1;31mTypeError\u001b[0m: can only concatenate str (not \"int\") to str"
     ]
    }
   ],
   "source": [
    "'3' + 3"
   ]
  },
  {
   "cell_type": "raw",
   "id": "ffa03638-26f7-4bba-a76f-5f44528dd56d",
   "metadata": {},
   "source": [
    "In python in order to merge two values, they need to be same type"
   ]
  },
  {
   "cell_type": "code",
   "execution_count": 11,
   "id": "3889d3e4-bc36-43e7-8d1c-dfbebcb194bd",
   "metadata": {},
   "outputs": [
    {
     "data": {
      "text/plain": [
       "'333'"
      ]
     },
     "execution_count": 11,
     "metadata": {},
     "output_type": "execute_result"
    }
   ],
   "source": [
    "3 * '3'"
   ]
  },
  {
   "cell_type": "raw",
   "id": "0a67329f-82e9-4bb7-b737-16e280bae9f2",
   "metadata": {},
   "source": [
    "3 is string, multiplied by 3 it will be printed three times."
   ]
  },
  {
   "cell_type": "code",
   "execution_count": 12,
   "id": "93ccacff-2f6f-4653-9a4a-a01db3baeea1",
   "metadata": {},
   "outputs": [
    {
     "ename": "NameError",
     "evalue": "name 'a' is not defined",
     "output_type": "error",
     "traceback": [
      "\u001b[1;31m---------------------------------------------------------------------------\u001b[0m",
      "\u001b[1;31mNameError\u001b[0m                                 Traceback (most recent call last)",
      "Input \u001b[1;32mIn [12]\u001b[0m, in \u001b[0;36m<cell line: 1>\u001b[1;34m()\u001b[0m\n\u001b[1;32m----> 1\u001b[0m \u001b[43ma\u001b[49m\n",
      "\u001b[1;31mNameError\u001b[0m: name 'a' is not defined"
     ]
    }
   ],
   "source": [
    "a"
   ]
  },
  {
   "cell_type": "raw",
   "id": "0dca24f1-e5db-40b9-a540-18e1b727c4fe",
   "metadata": {},
   "source": [
    "a does not have a value so python will give error."
   ]
  },
  {
   "cell_type": "code",
   "execution_count": 13,
   "id": "375f25cc-ffbc-4492-ab4c-1221104e5c1c",
   "metadata": {},
   "outputs": [
    {
     "data": {
      "text/plain": [
       "3"
      ]
     },
     "execution_count": 13,
     "metadata": {},
     "output_type": "execute_result"
    }
   ],
   "source": [
    "a=3\n",
    "a"
   ]
  },
  {
   "cell_type": "raw",
   "id": "93d75cdc-4fb2-4325-9c61-e9071e02e52d",
   "metadata": {},
   "source": [
    "Now a has a value so it will be printed without error."
   ]
  },
  {
   "cell_type": "raw",
   "id": "3e0e2cfd-b4a7-4f32-adfd-6bf2b288bee7",
   "metadata": {},
   "source": [
    "Exercise 1.4: Booleans"
   ]
  },
  {
   "cell_type": "code",
   "execution_count": 14,
   "id": "0b2b2728-7555-4c3c-bbc8-56228904a155",
   "metadata": {},
   "outputs": [
    {
     "data": {
      "text/plain": [
       "True"
      ]
     },
     "execution_count": 14,
     "metadata": {},
     "output_type": "execute_result"
    }
   ],
   "source": [
    "1 == 1\n",
    "1 == True"
   ]
  },
  {
   "cell_type": "raw",
   "id": "59f1fae6-0da4-4759-9f89-85225c21e2e4",
   "metadata": {},
   "source": [
    "1 is equal to 1 so it will be true. 1 also equals boolean true so there will be no error."
   ]
  },
  {
   "cell_type": "code",
   "execution_count": 16,
   "id": "f318a9ab-e454-4696-9f27-bbbd40d9cff0",
   "metadata": {},
   "outputs": [
    {
     "data": {
      "text/plain": [
       "False"
      ]
     },
     "execution_count": 16,
     "metadata": {},
     "output_type": "execute_result"
    }
   ],
   "source": [
    "0 == True"
   ]
  },
  {
   "cell_type": "code",
   "execution_count": 17,
   "id": "97c7bfec-1e79-4025-b46d-befbafd29475",
   "metadata": {},
   "outputs": [
    {
     "data": {
      "text/plain": [
       "True"
      ]
     },
     "execution_count": 17,
     "metadata": {},
     "output_type": "execute_result"
    }
   ],
   "source": [
    "0 == False"
   ]
  },
  {
   "cell_type": "raw",
   "id": "4fbba7e0-a4fa-40db-951e-d981ca25a0de",
   "metadata": {},
   "source": [
    "Unlike 1, 0 equals boolean false. "
   ]
  },
  {
   "cell_type": "code",
   "execution_count": 20,
   "id": "2eda1b53-23bc-4f4c-ade5-53e9eff1dfc8",
   "metadata": {},
   "outputs": [
    {
     "data": {
      "text/plain": [
       "0"
      ]
     },
     "execution_count": 20,
     "metadata": {},
     "output_type": "execute_result"
    }
   ],
   "source": [
    "3 == 1 * 3\n",
    "(3 == 1) * 3"
   ]
  },
  {
   "cell_type": "raw",
   "id": "589f3cc1-ada7-49bd-845a-6d5fd33c5ef7",
   "metadata": {},
   "source": [
    "3 == 1 will reutrn false and when multiplying it with 3 will be like 0*3 which equals to zero"
   ]
  },
  {
   "cell_type": "code",
   "execution_count": 21,
   "id": "97958eaa-17a1-4bd3-b23d-32ab9810d52d",
   "metadata": {},
   "outputs": [
    {
     "data": {
      "text/plain": [
       "False"
      ]
     },
     "execution_count": 21,
     "metadata": {},
     "output_type": "execute_result"
    }
   ],
   "source": [
    "(3 == 3) * 4 + 3 == 1"
   ]
  },
  {
   "cell_type": "raw",
   "id": "fef33a87-affc-40fd-902b-596644bd44bf",
   "metadata": {},
   "source": [
    "3 == 3 will return true hence 1. 1*4+3 will be 7 and 7==1 will return false"
   ]
  },
  {
   "cell_type": "code",
   "execution_count": 22,
   "id": "a3d0c6f0-b8bd-4d25-a615-609cfb1b90b1",
   "metadata": {},
   "outputs": [
    {
     "data": {
      "text/plain": [
       "False"
      ]
     },
     "execution_count": 22,
     "metadata": {},
     "output_type": "execute_result"
    }
   ],
   "source": [
    "3**5 >= 4**4"
   ]
  },
  {
   "cell_type": "raw",
   "id": "d2451d8e-9db2-4777-ae86-91feaf58e57c",
   "metadata": {},
   "source": [
    "since 243 is smaller than 256 statement will return false."
   ]
  },
  {
   "cell_type": "raw",
   "id": "22027d55-7aa6-497b-a064-7361ae8bd90c",
   "metadata": {},
   "source": [
    "Exercise 1.5: Integers"
   ]
  },
  {
   "cell_type": "code",
   "execution_count": 24,
   "id": "4c3d9f6f-a83f-4bf6-83ad-48bd9a3d7b21",
   "metadata": {},
   "outputs": [
    {
     "data": {
      "text/plain": [
       "1.6666666666666667"
      ]
     },
     "execution_count": 24,
     "metadata": {},
     "output_type": "execute_result"
    }
   ],
   "source": [
    "5 / 3"
   ]
  },
  {
   "cell_type": "code",
   "execution_count": 25,
   "id": "911106da-5f6e-4526-9ace-d76b5a37bb76",
   "metadata": {},
   "outputs": [
    {
     "data": {
      "text/plain": [
       "2"
      ]
     },
     "execution_count": 25,
     "metadata": {},
     "output_type": "execute_result"
    }
   ],
   "source": [
    "5 % 3"
   ]
  },
  {
   "cell_type": "code",
   "execution_count": 26,
   "id": "68bdce5c-66a3-4f75-8e7f-9e367a06bae8",
   "metadata": {},
   "outputs": [
    {
     "data": {
      "text/plain": [
       "1.6666666666666667"
      ]
     },
     "execution_count": 26,
     "metadata": {},
     "output_type": "execute_result"
    }
   ],
   "source": [
    "5.0 / 3"
   ]
  },
  {
   "cell_type": "code",
   "execution_count": 27,
   "id": "7dda9d1f-6aa2-47ff-8eeb-fef78ed84dba",
   "metadata": {},
   "outputs": [
    {
     "data": {
      "text/plain": [
       "1.6666666666666667"
      ]
     },
     "execution_count": 27,
     "metadata": {},
     "output_type": "execute_result"
    }
   ],
   "source": [
    "5 / 3.0"
   ]
  },
  {
   "cell_type": "code",
   "execution_count": 28,
   "id": "7184a083-5165-4694-9fae-41a4e253f66f",
   "metadata": {},
   "outputs": [
    {
     "data": {
      "text/plain": [
       "2.2"
      ]
     },
     "execution_count": 28,
     "metadata": {},
     "output_type": "execute_result"
    }
   ],
   "source": [
    "5.2 % 3"
   ]
  },
  {
   "cell_type": "code",
   "execution_count": 29,
   "id": "92c6063b-caad-4c6c-8072-5d21dc994a16",
   "metadata": {},
   "outputs": [
    {
     "data": {
      "text/plain": [
       "1775896810483121914350934797871501063452843428843794422323202530887281536545210629921129898113201749875234297340507804201761453596034016264189501186924066128377025843892373608427790859511135990682732202975330824797118808624727351608183194154557208730494440110429635650057431833674286462463508755276302896154336475782768613964332764108132533925570342220340698973761380541294970139762186212823359128790706292900765512137078550033912252338262922477518858757114840012576514724742388124595061301502222934806074032688691170880996881967426442947828261057852871032366879179996122216385870273020506079240103910728766397733398071775041745854959302025036249707279600400001"
      ]
     },
     "execution_count": 29,
     "metadata": {},
     "output_type": "execute_result"
    }
   ],
   "source": [
    "2001 ** 200"
   ]
  },
  {
   "cell_type": "raw",
   "id": "c99213b8-74a3-4195-a153-7e81c61c6f2a",
   "metadata": {},
   "source": [
    "Returns mathematically correct answers."
   ]
  },
  {
   "cell_type": "raw",
   "id": "2668e80c-2664-41d1-8e3e-33922ed897b2",
   "metadata": {},
   "source": [
    "Exercise 1.6: Floats"
   ]
  },
  {
   "cell_type": "code",
   "execution_count": 30,
   "id": "2d5849ef-1284-40aa-accf-cd8c21d0feed",
   "metadata": {},
   "outputs": [
    {
     "ename": "OverflowError",
     "evalue": "(34, 'Result too large')",
     "output_type": "error",
     "traceback": [
      "\u001b[1;31m---------------------------------------------------------------------------\u001b[0m",
      "\u001b[1;31mOverflowError\u001b[0m                             Traceback (most recent call last)",
      "Input \u001b[1;32mIn [30]\u001b[0m, in \u001b[0;36m<cell line: 1>\u001b[1;34m()\u001b[0m\n\u001b[1;32m----> 1\u001b[0m \u001b[38;5;241;43m2000.3\u001b[39;49m\u001b[43m \u001b[49m\u001b[38;5;241;43m*\u001b[39;49m\u001b[38;5;241;43m*\u001b[39;49m\u001b[43m \u001b[49m\u001b[38;5;241;43m200\u001b[39;49m\n",
      "\u001b[1;31mOverflowError\u001b[0m: (34, 'Result too large')"
     ]
    }
   ],
   "source": [
    "2000.3 ** 200"
   ]
  },
  {
   "cell_type": "raw",
   "id": "ec3c7c6c-0cca-4930-ba40-74f43773c28f",
   "metadata": {},
   "source": [
    "Even though the number is smaller than 2001**200, decimal part is too large hence that is why we have an overflow error."
   ]
  },
  {
   "cell_type": "code",
   "execution_count": 31,
   "id": "83f8908c-4828-4063-ace5-23f5525899fd",
   "metadata": {},
   "outputs": [
    {
     "data": {
      "text/plain": [
       "1.0"
      ]
     },
     "execution_count": 31,
     "metadata": {},
     "output_type": "execute_result"
    }
   ],
   "source": [
    "1.0 + 1.0 - 1.0"
   ]
  },
  {
   "cell_type": "code",
   "execution_count": 32,
   "id": "ea5e4e40-ba51-49cf-94b7-422356e2054e",
   "metadata": {},
   "outputs": [
    {
     "data": {
      "text/plain": [
       "0.0"
      ]
     },
     "execution_count": 32,
     "metadata": {},
     "output_type": "execute_result"
    }
   ],
   "source": [
    "1.0 + 1.0e20 - 1.0e20"
   ]
  },
  {
   "cell_type": "raw",
   "id": "10bcaadf-f661-466a-8dbf-bb90f6ab68e7",
   "metadata": {},
   "source": [
    "1.0e20 has 20 digits after point, when a number added it gets lost."
   ]
  },
  {
   "cell_type": "raw",
   "id": "c6b3ebc3-8ce1-42de-ab6c-33ecf6826008",
   "metadata": {},
   "source": [
    "Exercise 1.7: Variables"
   ]
  },
  {
   "cell_type": "code",
   "execution_count": 34,
   "id": "917aeff2-51e8-4fd3-88d8-d72b698863f9",
   "metadata": {},
   "outputs": [
    {
     "name": "stdout",
     "output_type": "stream",
     "text": [
      "Hello, Ozge!\n"
     ]
    }
   ],
   "source": [
    "name = \"Ozge\"\n",
    "print(\"Hello, \" + name + \"!\")"
   ]
  },
  {
   "cell_type": "raw",
   "id": "171044a4-466d-458b-ab3c-bd74140c4279",
   "metadata": {},
   "source": [
    "Exercise 1.8: Type Casting"
   ]
  },
  {
   "cell_type": "code",
   "execution_count": 38,
   "id": "10f95405-2323-43f5-b994-c82abbd60242",
   "metadata": {},
   "outputs": [
    {
     "data": {
      "text/plain": [
       "123.23"
      ]
     },
     "execution_count": 38,
     "metadata": {},
     "output_type": "execute_result"
    }
   ],
   "source": [
    "float(123)\n",
    "float('123')\n",
    "float('123.23')"
   ]
  },
  {
   "cell_type": "raw",
   "id": "6dc09ed1-6e27-4aac-92a7-02cd0b89ac2f",
   "metadata": {},
   "source": [
    "First two will return 123.0 because that is float equivalent of 123. And the last string will just be directly turn into the number 123.23"
   ]
  },
  {
   "cell_type": "code",
   "execution_count": 42,
   "id": "422da308-f275-45fa-88a9-0263b978902b",
   "metadata": {},
   "outputs": [
    {
     "ename": "ValueError",
     "evalue": "invalid literal for int() with base 10: '123.23'",
     "output_type": "error",
     "traceback": [
      "\u001b[1;31m---------------------------------------------------------------------------\u001b[0m",
      "\u001b[1;31mValueError\u001b[0m                                Traceback (most recent call last)",
      "Input \u001b[1;32mIn [42]\u001b[0m, in \u001b[0;36m<cell line: 2>\u001b[1;34m()\u001b[0m\n\u001b[0;32m      1\u001b[0m \u001b[38;5;28mint\u001b[39m(\u001b[38;5;241m123.23\u001b[39m)\n\u001b[1;32m----> 2\u001b[0m \u001b[38;5;28;43mint\u001b[39;49m\u001b[43m(\u001b[49m\u001b[38;5;124;43m'\u001b[39;49m\u001b[38;5;124;43m123.23\u001b[39;49m\u001b[38;5;124;43m'\u001b[39;49m\u001b[43m)\u001b[49m\n\u001b[0;32m      3\u001b[0m \u001b[38;5;28mint\u001b[39m(\u001b[38;5;28mfloat\u001b[39m(\u001b[38;5;124m'\u001b[39m\u001b[38;5;124m123.23\u001b[39m\u001b[38;5;124m'\u001b[39m))\n",
      "\u001b[1;31mValueError\u001b[0m: invalid literal for int() with base 10: '123.23'"
     ]
    }
   ],
   "source": [
    "int(123.23)\n",
    "int('123.23')\n",
    "int(float('123.23'))"
   ]
  },
  {
   "cell_type": "raw",
   "id": "36aed1a6-ff2c-41ce-977c-de8e448194b3",
   "metadata": {},
   "source": [
    "Second line - int('123.23') - will give an error because for the number 123.23 to convert into int, it needs to not have letters or special characters. "
   ]
  },
  {
   "cell_type": "code",
   "execution_count": 44,
   "id": "b0ee41d5-9466-4a56-9651-4263c2e18f92",
   "metadata": {},
   "outputs": [
    {
     "data": {
      "text/plain": [
       "'12.2'"
      ]
     },
     "execution_count": 44,
     "metadata": {},
     "output_type": "execute_result"
    }
   ],
   "source": [
    "str(12)\n",
    "str(12.2)"
   ]
  },
  {
   "cell_type": "code",
   "execution_count": 48,
   "id": "c2890e6a-2b38-43e8-874b-c1f1c5d1135a",
   "metadata": {},
   "outputs": [
    {
     "data": {
      "text/plain": [
       "True"
      ]
     },
     "execution_count": 48,
     "metadata": {},
     "output_type": "execute_result"
    }
   ],
   "source": [
    "bool('a')\n",
    "bool(0)\n",
    "bool(0.1)"
   ]
  },
  {
   "cell_type": "raw",
   "id": "68362638-0aec-4e9f-96f9-99a67d0b171a",
   "metadata": {},
   "source": [
    "As long as the value in paranthesis is not empty string, empty or 0 boolean will return true."
   ]
  },
  {
   "cell_type": "raw",
   "id": "154f074c-a32f-4ad4-a312-4bba47a9f041",
   "metadata": {},
   "source": [
    "----------------------------------------------------------------------------"
   ]
  },
  {
   "cell_type": "raw",
   "id": "f5cdbe7a-e902-48a5-82ee-436b730dd122",
   "metadata": {},
   "source": [
    "# 2 Control Flow\n",
    "\n",
    "Exercise 2.1: Range"
   ]
  },
  {
   "cell_type": "code",
   "execution_count": 49,
   "id": "7dea97b3-1fd5-4ec0-b395-a5db577b9b71",
   "metadata": {},
   "outputs": [
    {
     "data": {
      "text/plain": [
       "range(0, 5)"
      ]
     },
     "execution_count": 49,
     "metadata": {},
     "output_type": "execute_result"
    }
   ],
   "source": [
    "range(5)"
   ]
  },
  {
   "cell_type": "raw",
   "id": "36ad3f59-64a2-4e28-b6b1-98ee6e4fa7e1",
   "metadata": {},
   "source": [
    "for i in range(5) will loop 0-5, 5 is not included."
   ]
  },
  {
   "cell_type": "code",
   "execution_count": 51,
   "id": "c9e9f790-6fab-4878-9f20-edd2162ca682",
   "metadata": {},
   "outputs": [
    {
     "data": {
      "text/plain": [
       "range"
      ]
     },
     "execution_count": 51,
     "metadata": {},
     "output_type": "execute_result"
    }
   ],
   "source": [
    "type(range(5))"
   ]
  },
  {
   "cell_type": "raw",
   "id": "1be4502b-43f6-489e-b2e3-26d14fe14134",
   "metadata": {},
   "source": [
    "Exercise 2.2: For Loops"
   ]
  },
  {
   "cell_type": "raw",
   "id": "912869fa-4762-4706-99ea-c366a441e25f",
   "metadata": {},
   "source": [
    "Printing numbers 1-100"
   ]
  },
  {
   "cell_type": "code",
   "execution_count": null,
   "id": "57f228ff-850a-40a6-a4be-5cff2aee1fd4",
   "metadata": {},
   "outputs": [],
   "source": [
    "for i in range(100):\n",
    "    print(i)"
   ]
  },
  {
   "cell_type": "raw",
   "id": "6ff5fa0e-1e98-42f1-a532-7bcd6ba7ad31",
   "metadata": {},
   "source": [
    "Printing the numbers 0 to 100 that are divisible by 7"
   ]
  },
  {
   "cell_type": "code",
   "execution_count": null,
   "id": "c7b8bea0-ffe2-4415-8d14-44af5cf0ffeb",
   "metadata": {},
   "outputs": [],
   "source": [
    "for i in range(100):\n",
    "    if(i%7==0):\n",
    "        print(i)\n",
    "    "
   ]
  },
  {
   "cell_type": "code",
   "execution_count": null,
   "id": "34e3ad95-6f83-4980-ba87-0ab801a5a995",
   "metadata": {},
   "outputs": [],
   "source": [
    "Printing the numbers 1 to 100 that are divisible by 5 but not by 3"
   ]
  },
  {
   "cell_type": "code",
   "execution_count": null,
   "id": "24051693-7343-4757-b8ea-711a66f7a707",
   "metadata": {},
   "outputs": [],
   "source": [
    "for i in range(100):\n",
    "    if(i%5==0 and i%3!=0):\n",
    "        print(i)"
   ]
  },
  {
   "cell_type": "raw",
   "id": "abebf6a7-8b20-4c13-9a4a-3dac10c3e9f4",
   "metadata": {},
   "source": [
    "Printing for each of the numbers x = 2, . . . 20, all numbers that divide x, excluding 1 and x. Hence,\n",
    "for 18, it should print 2 3 6 9."
   ]
  },
  {
   "cell_type": "code",
   "execution_count": 67,
   "id": "add8fbb0-94db-4c2b-a737-94b0727fb250",
   "metadata": {},
   "outputs": [
    {
     "name": "stdout",
     "output_type": "stream",
     "text": [
      "for i: 2 >> \n",
      "for i: 3 >> \n",
      "for i: 4 >> 2 \n",
      "for i: 5 >> \n",
      "for i: 6 >> 2 3 \n",
      "for i: 7 >> \n",
      "for i: 8 >> 2 4 \n",
      "for i: 9 >> 3 \n",
      "for i: 10 >> 2 5 \n",
      "for i: 11 >> \n",
      "for i: 12 >> 2 3 4 6 \n",
      "for i: 13 >> \n",
      "for i: 14 >> 2 7 \n",
      "for i: 15 >> 3 5 \n",
      "for i: 16 >> 2 4 8 \n",
      "for i: 17 >> \n",
      "for i: 18 >> 2 3 6 9 \n",
      "for i: 19 >> \n",
      "for i: 20 >> 2 4 5 10 \n"
     ]
    }
   ],
   "source": [
    "for i in range(2,21):\n",
    "    print(\"for i: \" +str(i) + \" >>\", end =\" \")\n",
    "    for j in range(i):\n",
    "        if(j>1 and i%j==0):\n",
    "            print(j, end=\" \")\n",
    "    print(\"\")"
   ]
  },
  {
   "cell_type": "raw",
   "id": "3c6eb8a1-9955-4237-8d0e-e38ab205df36",
   "metadata": {},
   "source": [
    "Exercise 2.3: Simple while loops\n",
    "\n",
    "Printing the numbers 0 to 100 using while loop"
   ]
  },
  {
   "cell_type": "code",
   "execution_count": 68,
   "id": "f11befd7-93d4-42e6-9409-72eab3e4192d",
   "metadata": {},
   "outputs": [
    {
     "name": "stdout",
     "output_type": "stream",
     "text": [
      "0 1 2 3 4 5 6 7 8 9 10 11 12 13 14 15 16 17 18 19 20 21 22 23 24 25 26 27 28 29 30 31 32 33 34 35 36 37 38 39 40 41 42 43 44 45 46 47 48 49 50 51 52 53 54 55 56 57 58 59 60 61 62 63 64 65 66 67 68 69 70 71 72 73 74 75 76 77 78 79 80 81 82 83 84 85 86 87 88 89 90 91 92 93 94 95 96 97 98 99 "
     ]
    }
   ],
   "source": [
    "i = 0\n",
    "while(i < 100):\n",
    "    print(i, end=\" \")\n",
    "    i = i+1"
   ]
  },
  {
   "cell_type": "raw",
   "id": "2696a397-96eb-46ec-84a9-40b502e4f819",
   "metadata": {},
   "source": [
    "Printing the numbers 0 to 100 that are divisible by 7 using while loop"
   ]
  },
  {
   "cell_type": "code",
   "execution_count": 69,
   "id": "a511aa40-4e73-4f69-bd7e-92e3b431e9b3",
   "metadata": {},
   "outputs": [
    {
     "name": "stdout",
     "output_type": "stream",
     "text": [
      "0 7 14 21 28 35 42 49 56 63 70 77 84 91 98 "
     ]
    }
   ],
   "source": [
    "i = 0\n",
    "while(i < 100):\n",
    "    if(i%7==0):\n",
    "        print(i, end=\" \")\n",
    "    i = i+1"
   ]
  },
  {
   "cell_type": "raw",
   "id": "17d62329-a066-4b37-b815-82e9a056c177",
   "metadata": {},
   "source": [
    "Exercise 2.5: While loops\n",
    "\n",
    "Use a while loop to find the first 20 numbers that are divisible by 5, 7 and 11, and print them"
   ]
  },
  {
   "cell_type": "code",
   "execution_count": 71,
   "id": "ce560245-54e5-47e6-b046-6d49c38e7a49",
   "metadata": {},
   "outputs": [
    {
     "name": "stdout",
     "output_type": "stream",
     "text": [
      "385 770 1155 1540 1925 2310 2695 3080 3465 3850 4235 4620 5005 5390 5775 6160 6545 6930 7315 7700 "
     ]
    }
   ],
   "source": [
    "found = 0\n",
    "x = 1\n",
    "while(found < 20):\n",
    "    if(x%5==0 and x%7==0 and x%11==0):\n",
    "        print(x, end=\" \")\n",
    "        found=found+1\n",
    "    x=x+1"
   ]
  },
  {
   "cell_type": "raw",
   "id": "8fdd5cf6-429e-4d4c-bc22-a4038307f368",
   "metadata": {},
   "source": [
    "Exercise 2.6: More while loops\n",
    "Find the smallest number that is divisible by all integers between 1 and 10."
   ]
  },
  {
   "cell_type": "code",
   "execution_count": 80,
   "id": "e16afed5-c268-440e-98bf-be1ccdcc6623",
   "metadata": {},
   "outputs": [
    {
     "name": "stdout",
     "output_type": "stream",
     "text": [
      "2520\n"
     ]
    }
   ],
   "source": [
    "divisible = False\n",
    "number = 10\n",
    "\n",
    "while(divisible == False):\n",
    "    number=number+1\n",
    "    divisible=True\n",
    "    for i in range(2,10):\n",
    "        if(number%i!=0):\n",
    "            divisible=False\n",
    "    \n",
    "print(number)"
   ]
  },
  {
   "cell_type": "raw",
   "id": "ba012962-d1ac-45ad-a5de-30949ea84ba3",
   "metadata": {},
   "source": [
    "Exercise 2.7: Collatz sequence"
   ]
  },
  {
   "cell_type": "code",
   "execution_count": 5,
   "id": "14827214-5f03-4608-a48d-01e772c6f167",
   "metadata": {
    "scrolled": true
   },
   "outputs": [
    {
     "name": "stdout",
     "output_type": "stream",
     "text": [
      "310 155.0 466.0 233.0 700.0 350.0 175.0 526.0 263.0 790.0 395.0 1186.0 593.0 1780.0 890.0 445.0 1336.0 668.0 334.0 167.0 502.0 251.0 754.0 377.0 1132.0 566.0 283.0 850.0 425.0 1276.0 638.0 319.0 958.0 479.0 1438.0 719.0 2158.0 1079.0 3238.0 1619.0 4858.0 2429.0 7288.0 3644.0 1822.0 911.0 2734.0 1367.0 4102.0 2051.0 6154.0 3077.0 9232.0 4616.0 2308.0 1154.0 577.0 1732.0 866.0 433.0 1300.0 650.0 325.0 976.0 488.0 244.0 122.0 61.0 184.0 92.0 46.0 23.0 70.0 35.0 106.0 53.0 160.0 80.0 40.0 20.0 10.0 5.0 16.0 8.0 4.0 2.0 1.0 "
     ]
    }
   ],
   "source": [
    "number_x = 103\n",
    "while(number_x!=1):\n",
    "    if(number_x%2==0):\n",
    "        number_x=number_x/2\n",
    "    else:\n",
    "        number_x=3*number_x+1\n",
    "    print(number_x,end=\" \")\n",
    "    "
   ]
  },
  {
   "cell_type": "raw",
   "id": "627172e8",
   "metadata": {},
   "source": [
    "--------------------------------------------------------------------------------------"
   ]
  },
  {
   "cell_type": "raw",
   "id": "01c851d3",
   "metadata": {},
   "source": [
    "# 3 Functions\n",
    "\n",
    "Exercise 3.1: Hello"
   ]
  },
  {
   "cell_type": "raw",
   "id": "12cb9814",
   "metadata": {},
   "source": [
    "a) Function hello_world that prints ’Hello, world!’"
   ]
  },
  {
   "cell_type": "code",
   "execution_count": 6,
   "id": "3d3834c0",
   "metadata": {},
   "outputs": [
    {
     "name": "stdout",
     "output_type": "stream",
     "text": [
      "Hello, world!\n"
     ]
    }
   ],
   "source": [
    "def hello_world():\n",
    "    print(\"Hello, world!\")\n",
    "hello_world()\n",
    "    "
   ]
  },
  {
   "cell_type": "raw",
   "id": "5527ffda",
   "metadata": {},
   "source": [
    "b) Function hello_name(name) that prints ’Hello, name!’ where name is a string"
   ]
  },
  {
   "cell_type": "code",
   "execution_count": 8,
   "id": "05c38706",
   "metadata": {},
   "outputs": [
    {
     "name": "stdout",
     "output_type": "stream",
     "text": [
      "Hello, ozge!\n"
     ]
    }
   ],
   "source": [
    "def hello_name(name):\n",
    "    print(\"Hello, \" + name + \"!\")\n",
    "hello_name(\"ozge\")"
   ]
  },
  {
   "cell_type": "raw",
   "id": "55cc34a7",
   "metadata": {},
   "source": [
    "c) Explain the difference between the print and return keywords\n",
    "\n",
    "Difference between print and return is that print only shows the user what the value is, but return gives back a value computer can use later."
   ]
  },
  {
   "cell_type": "raw",
   "id": "345cafeb",
   "metadata": {},
   "source": [
    "Exercise 3.2: Polynomial\n",
    "\n",
    "Write a function that evaluates the polynomial 3x^2- x + 2"
   ]
  },
  {
   "cell_type": "code",
   "execution_count": 9,
   "id": "619b2284",
   "metadata": {},
   "outputs": [
    {
     "data": {
      "text/plain": [
       "4"
      ]
     },
     "execution_count": 9,
     "metadata": {},
     "output_type": "execute_result"
    }
   ],
   "source": [
    "def polynomial(x):\n",
    "    return 3*(x**2)-x+2\n",
    "polynomial(1)"
   ]
  },
  {
   "cell_type": "raw",
   "id": "43df4dc5",
   "metadata": {},
   "source": [
    "Exercise 3.3: Maximum\n",
    "Function my_max(x,y) that returns the maximum of x and y"
   ]
  },
  {
   "cell_type": "raw",
   "id": "676b8b6e",
   "metadata": {},
   "source": [
    "a) Use both if and else."
   ]
  },
  {
   "cell_type": "code",
   "execution_count": 10,
   "id": "f8f5b16a",
   "metadata": {},
   "outputs": [
    {
     "data": {
      "text/plain": [
       "7"
      ]
     },
     "execution_count": 10,
     "metadata": {},
     "output_type": "execute_result"
    }
   ],
   "source": [
    "def my_max(x,y):\n",
    "    if(x>y):\n",
    "        return x\n",
    "    else:\n",
    "        return y\n",
    "my_max(5,7)"
   ]
  },
  {
   "cell_type": "raw",
   "id": "52be0ce5",
   "metadata": {},
   "source": [
    "b) Use if but not else"
   ]
  },
  {
   "cell_type": "code",
   "execution_count": 11,
   "id": "356d9e9b",
   "metadata": {},
   "outputs": [
    {
     "data": {
      "text/plain": [
       "7"
      ]
     },
     "execution_count": 11,
     "metadata": {},
     "output_type": "execute_result"
    }
   ],
   "source": [
    "def my_max(x,y):\n",
    "    if(x>y):\n",
    "        return x\n",
    "    return y\n",
    "my_max(5,7)"
   ]
  },
  {
   "cell_type": "raw",
   "id": "5ac14de8",
   "metadata": {},
   "source": [
    "Exercise 3.4: Primes\n",
    "\n",
    "a) Write a function is_prime(n) that returns True only if n is prime"
   ]
  },
  {
   "cell_type": "code",
   "execution_count": 22,
   "id": "679c59b0",
   "metadata": {},
   "outputs": [],
   "source": [
    "def prime_number(x):\n",
    "    is_prime=True\n",
    "    if(x > 1):\n",
    "        for i in range(2,x):\n",
    "            if(x%i==0):\n",
    "                is_prime=False\n",
    "    return is_prime\n",
    "            "
   ]
  },
  {
   "cell_type": "raw",
   "id": "50175923",
   "metadata": {},
   "source": [
    "b) Note that apart from 2 and 3, all primes are of the form 6k ± 1. Using this, we can improve the computation time by a factor 3.\n",
    "Update your function to use this."
   ]
  },
  {
   "cell_type": "code",
   "execution_count": 35,
   "id": "1ffe51f0",
   "metadata": {},
   "outputs": [],
   "source": [
    "def prime_number(x):\n",
    "    is_prime=True\n",
    "    if(x > 3):\n",
    "        if(x%6==1 or x%6==5):\n",
    "            is_prime=True\n",
    "        else:\n",
    "            is_prime=False\n",
    "    return is_prime"
   ]
  },
  {
   "cell_type": "raw",
   "id": "a9278dff",
   "metadata": {},
   "source": [
    "c) Write a function that returns all primes up to n."
   ]
  },
  {
   "cell_type": "code",
   "execution_count": 1,
   "id": "ade33d2d",
   "metadata": {},
   "outputs": [
    {
     "name": "stdout",
     "output_type": "stream",
     "text": [
      "2 3 5 7 11 13 17 19 23 29 31 "
     ]
    }
   ],
   "source": [
    "# Function to check if a number is prime.\n",
    "def prime_number(x):\n",
    "    is_prime=True\n",
    "    if(x > 1):\n",
    "        for i in range(2,x):\n",
    "            if(x%i==0):\n",
    "                is_prime=False\n",
    "    return is_prime\n",
    "# Function that returns all primes up to n.\n",
    "def all_primes(n):\n",
    "    for i in range(2,n):\n",
    "        if(prime_number(i)):\n",
    "            print(i, end=\" \")\n",
    "\n",
    "all_primes(37)"
   ]
  },
  {
   "cell_type": "raw",
   "id": "e99f73a7",
   "metadata": {},
   "source": [
    "d) Write a function that returns the first n primes."
   ]
  },
  {
   "cell_type": "code",
   "execution_count": 4,
   "id": "d6c50149",
   "metadata": {},
   "outputs": [
    {
     "name": "stdout",
     "output_type": "stream",
     "text": [
      "2 3 5 7 11 13 17 19 23 29 31 37 41 43 47 "
     ]
    }
   ],
   "source": [
    "# Function to check if a number is prime.\n",
    "def prime_number(x):\n",
    "    is_prime=True\n",
    "    if(x > 1):\n",
    "        for i in range(2,x):\n",
    "            if(x%i==0):\n",
    "                is_prime=False\n",
    "    return is_prime\n",
    "\n",
    "# Function that returns the first n primes.\n",
    "def primes_upto(n):\n",
    "    num=2\n",
    "    while(n>0):\n",
    "        if(prime_number(num)):\n",
    "            print(num, end=\" \")\n",
    "            n=n-1\n",
    "        num=num+1\n",
    "\n",
    "primes_upto(15)"
   ]
  },
  {
   "cell_type": "raw",
   "id": "a6c9a48f",
   "metadata": {},
   "source": [
    "Exercise 3.5: Root finding\n",
    "\n",
    "Suppose f is a continuous function and f(a) < 0 and f(b) > 0 for some known a and b. For simplicity,\n",
    "assume a < b. Then, there must exist some c such that f(c) = 0\n",
    "\n",
    "Write a function root(f, a, b) that takes a function f and two floats a and b and returns the\n",
    "root c."
   ]
  },
  {
   "cell_type": "code",
   "execution_count": 3,
   "id": "d208bcef",
   "metadata": {},
   "outputs": [
    {
     "data": {
      "text/plain": [
       "True"
      ]
     },
     "execution_count": 3,
     "metadata": {},
     "output_type": "execute_result"
    }
   ],
   "source": [
    "def func(f):\n",
    "    return f**2+f-6\n",
    "def cont_function(a,b):\n",
    "    c=(a+b)/2\n",
    "    if(func(c)==0):\n",
    "        return True\n",
    "    else:\n",
    "        return False\n",
    "    \n",
    "cont_function(2,2)\n",
    "\n",
    "    "
   ]
  },
  {
   "cell_type": "code",
   "execution_count": null,
   "id": "d4791501",
   "metadata": {},
   "outputs": [],
   "source": []
  }
 ],
 "metadata": {
  "kernelspec": {
   "display_name": "Python 3 (ipykernel)",
   "language": "python",
   "name": "python3"
  },
  "language_info": {
   "codemirror_mode": {
    "name": "ipython",
    "version": 3
   },
   "file_extension": ".py",
   "mimetype": "text/x-python",
   "name": "python",
   "nbconvert_exporter": "python",
   "pygments_lexer": "ipython3",
   "version": "3.9.7"
  }
 },
 "nbformat": 4,
 "nbformat_minor": 5
}
