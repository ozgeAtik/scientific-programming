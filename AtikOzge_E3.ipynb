{
 "cells": [
  {
   "cell_type": "raw",
   "id": "aa44c48e",
   "metadata": {},
   "source": [
    "7 File I/O\n",
    "\n",
    "Exercise 7.1: Open a file\n",
    "Write a function that opens a file (input: filename), and prints the file line by line"
   ]
  },
  {
   "cell_type": "raw",
   "id": "da3d37b5",
   "metadata": {},
   "source": [
    "I have created a file named deneme.txt and put dummy text in it."
   ]
  },
  {
   "cell_type": "code",
   "execution_count": 1,
   "id": "f63e336f",
   "metadata": {},
   "outputs": [
    {
     "name": "stdout",
     "output_type": "stream",
     "text": [
      "Lorem ipsum dolor sit amet, consectetur adipiscing elit. In tincidunt dui sit amet ipsum varius, vitae aliquam nisi elementum. \n",
      "Quisque sit amet massa non nisl convallis vestibulum vitae non magna. \n",
      "Ut tempus hendrerit dictum. Proin arcu tellus, aliquet auctor mollis in, vestibulum eu leo. \n",
      "Pellentesque vitae enim turpis. Suspendisse vitae est augue. Phasellus tincidunt at nunc quis accumsan. \n",
      "Nam non magna a augue blandit lobortis. Proin pulvinar nunc sed est maximus sollicitudin. Aliquam maximus eget leo vitae dignissim. Integer non ex quis eros condimentum tempus non ut nisl. Nulla in pellentesque est. \n",
      "Interdum et malesuada fames ac ante ipsum primis in faucibus. Nullam volutpat sollicitudin nisi. Sed feugiat vitae sapien et malesuada.\n"
     ]
    }
   ],
   "source": [
    "def openFile(file):\n",
    "    f = open(file,'r')\n",
    "    text = f.read()\n",
    "    return text\n",
    "\n",
    "print(openFile('deneme.txt'))\n",
    "    "
   ]
  },
  {
   "cell_type": "raw",
   "id": "6f154703",
   "metadata": {},
   "source": [
    "Exercise 7.2: Wordcount\n",
    "On the course website you can find a text file containing the complete works of William Shapespeare.\n",
    "(a) Find the 20 most common words"
   ]
  },
  {
   "cell_type": "code",
   "execution_count": 44,
   "id": "ceaacc52",
   "metadata": {},
   "outputs": [
    {
     "name": "stdout",
     "output_type": "stream",
     "text": [
      "[('the', 4084), ('and', 3759), ('i', 3283), ('to', 2983), ('of', 2934), ('you', 2422), ('a', 2088), ('my', 1852), ('that', 1843), ('in', 1746), ('is', 1440), ('not', 1412), ('me', 1273), ('for', 1267), ('with', 1215), ('it', 1207), ('he', 1193), ('your', 1079), ('his', 1069), ('be', 1039)]\n"
     ]
    }
   ],
   "source": [
    "from collections import Counter\n",
    "import re\n",
    "\n",
    "# Function to split the text into words and create a list including the words.\n",
    "def splitWords(file):\n",
    "    f = open(file,'r')\n",
    "    text = f.read()\n",
    "    words = text.split()\n",
    "    # Lowercase all the words so words like Hey and hey are same for example.\n",
    "    for i in range(len(words)):\n",
    "        words[i] = words[i].lower()\n",
    "        words[i] = re.sub(r'[.,\"\\'-?:!;]', '', words[i])\n",
    "    return words\n",
    "\n",
    "freq_words = Counter(splitWords('shakespeare.txt'))\n",
    "print(freq_words.most_common(20))"
   ]
  },
  {
   "cell_type": "raw",
   "id": "b0e4d478",
   "metadata": {},
   "source": [
    "(b) How many unique words are used?\n",
    "I need to find words that written only once."
   ]
  },
  {
   "cell_type": "code",
   "execution_count": null,
   "id": "45f43f6d",
   "metadata": {
    "scrolled": true
   },
   "outputs": [],
   "source": [
    "from collections import Counter\n",
    "import re\n",
    "\n",
    "# Function to split the text into words and create a list including the words.\n",
    "def splitWords(file):\n",
    "    f = open(file,'r')\n",
    "    text = f.read()\n",
    "    words = text.split()\n",
    "    # Lowercase all the words so words like Hey and hey are same for example. Also removing special characters so words like\n",
    "    # that hey,and hey are not different words.\n",
    "    for i in range(len(words)):\n",
    "        words[i] = words[i].lower()\n",
    "        words[i] = re.sub(r'[.,\"\\'-?:!;]', '', words[i])\n",
    "    return words\n",
    "\n",
    "freq_words = Counter(splitWords('shakespeare.txt'))\n",
    "\n",
    "for i in range(1,5461):\n",
    "    print(freq_words.most_common()[-i])\n"
   ]
  },
  {
   "cell_type": "raw",
   "id": "7be2dad4",
   "metadata": {},
   "source": [
    "(c) How many words are used at least 5 times?"
   ]
  },
  {
   "cell_type": "code",
   "execution_count": 58,
   "id": "3114abad",
   "metadata": {},
   "outputs": [
    {
     "name": "stdout",
     "output_type": "stream",
     "text": [
      "['ebook', 'author', 'start', 'convey', 'fee', 'damages', 'rights', 'following', 'foe', 'ornament', 'forty', 'trenches', 'weed', 'windows', 'image', 'abuse', 'deceive', 'fairly', 'substance', 'willing', 'conquest', 'delights', 'gladly', 'sounds', 'strikes', 'sings', 'herein', 'harsh', 'scythe', 'prepare', 'luck', 'minutes', 'truths', 'sets', 'tyrant', 'inward', 'earthly', 'poets', 'alive', 'winds', 'buds', 'shines', 'fierce', 'crime', 'object', 'hue', 'elder', 'actor', 'ceremony', 'recompense', 'bosoms', 'shop', 'peep', 'remove', 'strongly', 'wanting', 'toil', 'tired', 'torture', 'complain', 'enjoy', 'contented', 'sought', 'flow', 'moan', 'supposed', 'basest', 'ride', 'unseen', 'morn', 'shine', 'triumphant', 'thorns', 'canker', 'sole', 'acknowledge', 'sort', 'praising', 'poverty', 'lascivious', 'mightst', 'seat', 'approve', 'losing', 'shadows', 'nights', 'distance', 'nimble', 'composition', 'assured', 'freedom', 'careful', 'jewels', 'travels', 'survey', 'feasts', 'room', 'perpetual', 'require', 'charter', 'contend', 'nativity', 'kingdom', 'ink', 'veins', 'suspect', 'bell', 'line', 'willingly', 'birds', 'strife', 'pine', 'showing', 'eternity', 'commit', 'mouths', 'exceed', 'bonds', 'walks', 'term', 'depends', 'dignity', 'stern', 'esteem', 'front', 'appears', 'sinful', 'fearing', 'error', 'whereto', 'level', 'healthful', 'hopes', 'fever', 'oblivion', 'politic', 'detain', 'reap', 'pursuit', 'snow', 'admitted', 'receipt', 'swears', 'physicians', 'pitied', 'wooing', 'fiend', 'dearth', 'fed', 'discourse', 'marvel', 'mistake', 'commanded', 'abhor', 'cupid', 'asleep', 'bath', 'chaste', 'legions', 'sleeping', 'cool', 'dramatis', 'personae', 'neighbour', 'bury', 'majestys', 'necessity', 'qualities', 'advise', 'ambition', 'lion', 'brows', 'liar', 'evils', 'disaster', 'instruction', 'reported', 'friendship', 'soldiership', 'observe', 'began', 'wishd', 'months', 'driven', 'drives', 'wicked', 'comforts', 'gown', 'forsooth', 'stranger', 'knight', 'acquaint', 'informd', 'serpent', 'shield', 'pour', 'search', 'provd', 'amongst', 'stretch', 'attended', 'dance', 'grapes', 'sex', 'senseless', 'minister', 'square', 'breeding', 'lent', 'leg', 'questions', 'buttock', 'rush', 'skin', 'size', 'merrily', 'legs', 'parcel', 'raisd', 'distinction', 'estate', 'wedding', 'vent', 'scarf', 'commission', 'chamber', 'probable', 'commands', 'nut', 'letter]', 'observance', 'flight', 'killd', 'standing', 'worthiest', 'effected', 'scar', 'embrace', 'prevented', 'amorous', 'suddenly', 'bottom', 'dishonour', 'borrow', 'interpreter', '[alarum', 'guarded', 'holding', 'conquerd', 'renown', 'rebellion', 'meantime', 'became', 'knot', 'keeping', 'fifty', 'generals', 'wrongd', 'daughters', 'patch', 'belike', 'henceforth', 'lackd', 'scornd', 'sleeps', 'seize', 'utter', 'menecrates', 'taurus', 'nobleness', 'palm', 'nilus', 'betrayd', 'rot', 'pompeys', 'consuls', 'pasture', 'thinkst', 'nile', 'mingle', 'impatience', 'worthily', 'reproof', 'twelve', 'appeard', 'stroke', 'odds', 'ingratitude', 'offers', 'marcus', 'throats', 'lief', 'moves', 'offerd', 'hoo', 'athens', 'wrestle', 'seet', 'midst', 'upont', 'schoolmaster', 'perform', 'devils', 'confusion', 'degrees', 'odd', 'armour', 'loose', 'wheel', 'lament', 'breaths', '&c', 'dennis', 'youngest', 'judge', 'banishment', 'hire', 'sighd', 'snail', 'heighho', 'south', 'spit', 'goods', 'breaks', 'swoon', 'neighbours', 'unnatural', 'human', 'according', 'conjure', 'sconce', 'urging', 'porpentine', 'holp', 'reverend', 'execution', 'ofephesus', 'mutinous', 'weapons', 'mile', 'tribune', 'tarpeian', 'banish']\n"
     ]
    }
   ],
   "source": [
    "from collections import Counter\n",
    "\n",
    "# Function to split the text into words and create a list including the words.\n",
    "def splitWords(file):\n",
    "    f = open(file,'r')\n",
    "    text = f.read()\n",
    "    words = text.split()\n",
    "    # Lowercase all the words so words like Hey and hey are same for example. Also removing special characters so words like\n",
    "    # that hey,and hey are not different words.\n",
    "    for i in range(len(words)):\n",
    "        words[i] = words[i].lower()\n",
    "        words[i] = re.sub(r'[.,\"\\'-?:!;]', '', words[i])\n",
    "    return words\n",
    "\n",
    "freq_words = Counter(splitWords('shakespeare.txt'))\n",
    "f_times = []\n",
    "for k,v in freq_words.items():\n",
    "    if v == 5:\n",
    "        f_times.append(k)\n",
    "print(f_times)"
   ]
  },
  {
   "cell_type": "raw",
   "id": "756338d6",
   "metadata": {},
   "source": [
    "(d) Write the 200 most common words, and their counts, to a file."
   ]
  },
  {
   "cell_type": "code",
   "execution_count": 64,
   "id": "37c6815b",
   "metadata": {},
   "outputs": [],
   "source": [
    "from collections import Counter\n",
    "\n",
    "# Function to split the text into words and create a list including the words.\n",
    "def splitWords(file):\n",
    "    f = open(file,'r')\n",
    "    text = f.read()\n",
    "    words = text.split()\n",
    "    # Lowercase all the words so words like Hey and hey are same for example. Also removing special characters so words like\n",
    "    # that hey,and hey are not different words.\n",
    "    for i in range(len(words)):\n",
    "        words[i] = words[i].lower()\n",
    "        words[i] = re.sub(r'[.,\"\\'-?:!;]', '', words[i])\n",
    "    return words\n",
    "\n",
    "freq_words = Counter(splitWords('shakespeare.txt'))\n",
    "\n",
    "f_=open('common200.txt' , 'w')\n",
    "\n",
    "for i in range(200):\n",
    "    print(freq_words.most_common()[i] , file=f_)"
   ]
  },
  {
   "cell_type": "raw",
   "id": "c9f8a8bf",
   "metadata": {},
   "source": [
    "Exercise 7.4: Sum of lists\n",
    "\n",
    "(a) Data generation\n",
    "Write a function that takes three integers, n, a and b and a filename and writes to the file a list\n",
    "with n random integers between a and b\n",
    "\n",
    "(b) Reading the data\n",
    "Write a function that can read the files as generated above and return the values.\n",
    "\n",
    "(c) Sum problem\n",
    "Write a function that given two filenames (pointing to files as generated by the above function) and\n",
    "an integer k, finds all u and v such that u + v = k, and u is an element of the first list and v is a\n",
    "member of the second list"
   ]
  },
  {
   "cell_type": "code",
   "execution_count": 12,
   "id": "ee6caac9",
   "metadata": {},
   "outputs": [
    {
     "name": "stdout",
     "output_type": "stream",
     "text": [
      "['9', '23', '44', '40', '33', '28', '4', '13', '4', '24']\n",
      "['29', '37', '1', '6', '15', '43', '39', '6', '41', '48']\n"
     ]
    }
   ],
   "source": [
    "import random\n",
    "\n",
    "# a) Data generation\n",
    "def func_a(n,a,b,f_name):\n",
    "    file_a = open(f_name , 'w')\n",
    "    fla = []\n",
    "    for i in range(n):\n",
    "        fla.append(random.randint(a,b))\n",
    "    for a in fla:\n",
    "        print(a,file=file_a)\n",
    "    return f_name\n",
    "\n",
    "# b) Reading the data\n",
    "def read_b(f):\n",
    "    file = open(f, \"r\")\n",
    "    return file.read().splitlines()\n",
    "\n",
    "# Generating files file_a and file_b\n",
    "print(read_b(func_a(10,1,50,'file_a.txt')))\n",
    "print(read_b(func_a(10,1,50,'file_b.txt')))"
   ]
  },
  {
   "cell_type": "code",
   "execution_count": 17,
   "id": "5a7d8f29",
   "metadata": {},
   "outputs": [
    {
     "name": "stdout",
     "output_type": "stream",
     "text": [
      "['9 + 29', '23 + 15']\n"
     ]
    }
   ],
   "source": [
    "# c) Sum problem\n",
    "\n",
    "def sum_c(f1,f2,k):\n",
    "    l1 = read_b(f1)\n",
    "    l2 = read_b(f2)\n",
    "    result = []\n",
    "    for i in l1:\n",
    "        for j in l2:\n",
    "            if(int(i)+int(j)==k):\n",
    "                s = \"{} + {}\".format(i, j)\n",
    "                result.append(s)\n",
    "                         \n",
    "    return result\n",
    "print(sum_c('file_a.txt','file_b.txt',38))"
   ]
  },
  {
   "cell_type": "raw",
   "id": "f750bd13",
   "metadata": {},
   "source": [
    "(d) Testing\n",
    "Test your functions by generating 2 files with n = 2000, a = 1, b = 10000 and k = 5000 and\n",
    "k = 12000."
   ]
  },
  {
   "cell_type": "code",
   "execution_count": 18,
   "id": "3aaca97c",
   "metadata": {},
   "outputs": [
    {
     "data": {
      "text/plain": [
       "'f2.txt'"
      ]
     },
     "execution_count": 18,
     "metadata": {},
     "output_type": "execute_result"
    }
   ],
   "source": [
    "func_a(2000,1,10000,'f1.txt')\n",
    "func_a(2000,1,10000,'f2.txt')"
   ]
  },
  {
   "cell_type": "code",
   "execution_count": 19,
   "id": "f9a5fbb8",
   "metadata": {},
   "outputs": [
    {
     "name": "stdout",
     "output_type": "stream",
     "text": [
      "['1761 + 3239', '4370 + 630', '4370 + 630', '4401 + 599', '3549 + 1451', '85 + 4915', '1581 + 3419', '1581 + 3419', '1581 + 3419', '1634 + 3366', '3113 + 1887', '3435 + 1565', '3159 + 1841', '3912 + 1088', '1894 + 3106', '2384 + 2616', '323 + 4677', '2833 + 2167', '3492 + 1508', '936 + 4064', '4949 + 51', '953 + 4047', '4226 + 774', '4226 + 774', '3897 + 1103', '2601 + 2399', '3387 + 1613', '3200 + 1800', '1852 + 3148', '2157 + 2843', '3951 + 1049', '2172 + 2828', '3553 + 1447', '2814 + 2186', '1176 + 3824', '3591 + 1409', '3389 + 1611', '173 + 4827', '68 + 4932', '3062 + 1938', '4804 + 196', '1494 + 3506', '3208 + 1792', '137 + 4863', '367 + 4633', '2051 + 2949', '831 + 4169', '3666 + 1334', '2609 + 2391', '940 + 4060', '2169 + 2831', '2476 + 2524', '1671 + 3329', '1897 + 3103', '2162 + 2838', '421 + 4579', '421 + 4579', '4066 + 934', '216 + 4784', '1121 + 3879', '4025 + 975', '3202 + 1798', '2895 + 2105', '4969 + 31', '3387 + 1613', '3520 + 1480', '623 + 4377', '3877 + 1123', '282 + 4718', '3061 + 1939', '589 + 4411', '2877 + 2123', '3250 + 1750', '2987 + 2013', '4426 + 574', '3751 + 1249', '2165 + 2835', '1699 + 3301', '685 + 4315', '4057 + 943', '4673 + 327', '444 + 4556', '3912 + 1088', '1530 + 3470', '2626 + 2374', '4640 + 360', '4673 + 327', '1349 + 3651', '2928 + 2072', '622 + 4378', '35 + 4965', '2013 + 2987', '517 + 4483', '4425 + 575', '2984 + 2016', '4940 + 60', '2077 + 2923', '3580 + 1420', '4701 + 299', '4043 + 957', '345 + 4655', '3952 + 1048', '3604 + 1396', '1706 + 3294', '1706 + 3294', '1868 + 3132', '4588 + 412', '1059 + 3941', '4442 + 558', '2982 + 2018', '2982 + 2018', '2982 + 2018', '2142 + 2858', '1288 + 3712', '170 + 4830', '3113 + 1887', '1121 + 3879', '1852 + 3148', '1238 + 3762', '3337 + 1663', '3337 + 1663', '439 + 4561', '4503 + 497', '4328 + 672', '3367 + 1633', '1830 + 3170', '4379 + 621', '532 + 4468', '406 + 4594', '1180 + 3820', '3195 + 1805', '2739 + 2261', '4521 + 479', '4702 + 298', '4342 + 658', '4843 + 157', '2869 + 2131', '37 + 4963', '3215 + 1785', '4057 + 943', '4191 + 809', '1551 + 3449', '2229 + 2771', '4173 + 827', '2842 + 2158', '963 + 4037', '963 + 4037', '1672 + 3328', '3897 + 1103', '1103 + 3897', '3547 + 1453', '3636 + 1364', '2833 + 2167', '1453 + 3547', '1892 + 3108', '1244 + 3756', '1452 + 3548', '1452 + 3548', '3794 + 1206', '4344 + 656', '3983 + 1017', '4409 + 591', '1093 + 3907', '4399 + 601', '3150 + 1850', '2172 + 2828', '3237 + 1763', '1647 + 3353', '1647 + 3353', '294 + 4706', '294 + 4706', '294 + 4706', '1134 + 3866', '1134 + 3866', '2898 + 2102', '1547 + 3453', '1288 + 3712', '3822 + 1178', '4879 + 121', '793 + 4207', '4286 + 714', '1176 + 3824', '3284 + 1716', '4896 + 104', '4896 + 104', '3730 + 1270', '1964 + 3036', '2476 + 2524', '1341 + 3659', '967 + 4033', '1649 + 3351', '876 + 4124', '3881 + 1119', '4701 + 299', '2492 + 2508', '992 + 4008', '1826 + 3174', '1160 + 3840', '2395 + 2605', '4588 + 412', '4650 + 350', '2374 + 2626', '2994 + 2006', '2468 + 2532', '3872 + 1128']\n",
      "['9838 + 2162', '7289 + 4711', '4401 + 7599', '7905 + 4095', '8616 + 3384', '9076 + 2924', '8573 + 3427', '5599 + 6401', '3159 + 8841', '4621 + 7379', '3501 + 8499', '9764 + 2236', '4915 + 7085', '6619 + 5381', '6619 + 5381', '6994 + 5006', '6994 + 5006', '6616 + 5384', '9647 + 2353', '8982 + 3018', '2687 + 9313', '7389 + 4611', '5512 + 6488', '2322 + 9678', '8029 + 3971', '9580 + 2420', '2458 + 9542', '2571 + 9429', '4322 + 7678', '5849 + 6151', '7412 + 4588', '2216 + 9784', '2216 + 9784', '4765 + 7235', '8785 + 3215', '8785 + 3215', '3720 + 8280', '7444 + 4556', '8101 + 3899', '6734 + 5266', '9486 + 2514', '4803 + 7197', '8442 + 3558', '9988 + 2012', '5433 + 6567', '5433 + 6567', '5677 + 6323', '3690 + 8310', '4309 + 7691', '2601 + 9399', '5758 + 6242', '3130 + 8870', '9131 + 2869', '7589 + 4411', '3747 + 8253', '7444 + 4556', '8751 + 3249', '9128 + 2872', '7774 + 4226', '6705 + 5295', '3774 + 8226', '9352 + 2648', '2254 + 9746', '2814 + 9186', '9737 + 2263', '4493 + 7507', '7350 + 4650', '8797 + 3203', '8797 + 3203', '4926 + 7074', '3389 + 8611', '5183 + 6817', '7967 + 4033', '2031 + 9969', '7042 + 4958', '6323 + 5677', '9361 + 2639', '7089 + 4911', '3062 + 8938', '2496 + 9504', '3208 + 8792', '3208 + 8792', '2070 + 9930', '5370 + 6630', '7656 + 4344', '8982 + 3018', '7295 + 4705', '7011 + 4989', '5435 + 6565', '9927 + 2073', '3034 + 8966', '7334 + 4666', '3666 + 8334', '8719 + 3281', '4627 + 7373', '5673 + 6327', '5770 + 6230', '2717 + 9283', '5077 + 6923', '7542 + 4458', '6323 + 5677', '9801 + 2199', '7532 + 4468', '4450 + 7550', '6211 + 5789', '4395 + 7605', '2419 + 9581', '2701 + 9299', '3485 + 8515', '7037 + 4963', '5885 + 6115', '7977 + 4023', '4100 + 7900', '5384 + 6616', '7116 + 4884', '2929 + 9071', '9981 + 2019', '2194 + 9806', '5391 + 6609', '6013 + 5987', '6013 + 5987', '3484 + 8516', '2899 + 9101', '9131 + 2869', '8868 + 3132', '7033 + 4967', '9588 + 2412', '9868 + 2132', '3690 + 8310', '2064 + 9936', '3061 + 8939', '4128 + 7872', '8238 + 3762', '7611 + 4389', '9018 + 2982', '4051 + 7949', '7517 + 4483', '4426 + 7574', '3383 + 8617', '3751 + 8249', '7774 + 4226', '6343 + 5657', '4455 + 7545', '3501 + 8499', '3347 + 8653', '9076 + 2924', '2734 + 9266', '8093 + 3907', '4673 + 7327', '8942 + 3058', '4711 + 7289', '6112 + 5888', '7710 + 4290', '7194 + 4806', '8242 + 3758', '4816 + 7184', '4530 + 7470', '4309 + 7691', '9352 + 2648', '3720 + 8280', '8314 + 3686', '4673 + 7327', '5211 + 6789', '6416 + 5584', '2322 + 9678', '9921 + 2079', '3131 + 8869', '8059 + 3941', '2324 + 9676', '3482 + 8518', '4697 + 7303', '6909 + 5091', '2984 + 9016', '8512 + 3488', '8512 + 3488', '4940 + 7060', '4940 + 7060', '4255 + 7745', '9177 + 2823', '4675 + 7325', '8924 + 3076', '4538 + 7462', '7385 + 4615', '3580 + 8420', '9597 + 2403', '8925 + 3075', '6172 + 5828', '6172 + 5828', '8819 + 3181', '6733 + 5267', '6836 + 5164', '9395 + 2605', '9766 + 2234', '5212 + 6788', '7791 + 4209', '9822 + 2178', '7444 + 4556', '9529 + 2471', '7367 + 4633', '7883 + 4117', '8551 + 3449', '7598 + 4402', '2701 + 9299', '4686 + 7314', '4588 + 7412', '4588 + 7412', '4763 + 7237', '4763 + 7237', '5523 + 6477', '6385 + 5615', '6694 + 5306', '6694 + 5306', '2142 + 9858', '5706 + 6294', '2619 + 9381', '7589 + 4411', '8089 + 3911', '5211 + 6789', '5301 + 6699', '7138 + 4862', '2555 + 9445', '8124 + 3876', '5643 + 6357', '9509 + 2491', '3644 + 8356', '3644 + 8356', '4210 + 7790', '4503 + 7497', '8785 + 3215', '8785 + 3215', '7323 + 4677', '7172 + 4828', '9631 + 2369', '7206 + 4794', '6701 + 5299', '4320 + 7680', '8158 + 3842', '3242 + 8758', '2782 + 9218', '4342 + 7658', '6723 + 5277', '9441 + 2559', '7704 + 4296', '9763 + 2237', '7008 + 4992', '9454 + 2546', '7764 + 4236', '3639 + 8361', '4599 + 7401', '3096 + 8904', '8238 + 3762', '7797 + 4203', '4986 + 7014', '2754 + 9246', '5015 + 6985', '9500 + 2500', '9713 + 2287', '2167 + 9833', '4244 + 7756', '6311 + 5689', '9197 + 2803', '8059 + 3941', '2899 + 9101', '7977 + 4023', '4301 + 7699', '6323 + 5677', '3579 + 8421', '6763 + 5237', '5469 + 6531', '3266 + 8734', '9867 + 2133', '3123 + 8877', '4972 + 7028', '4343 + 7657', '6975 + 5025', '9868 + 2132', '2717 + 9283', '3023 + 8977', '3023 + 8977', '8101 + 3899', '6864 + 5136', '7623 + 4377', '3729 + 8271', '9461 + 2539', '9461 + 2539', '7078 + 4922', '3888 + 8112', '9665 + 2335', '2898 + 9102', '9890 + 2110', '6526 + 5474', '3104 + 8896', '4726 + 7274', '5183 + 6817', '3123 + 8877', '2194 + 9806', '6873 + 5127', '9801 + 2199', '7085 + 4915', '7050 + 4950', '7050 + 4950', '8121 + 3879', '2617 + 9383', '8902 + 3098', '8417 + 3583', '7332 + 4668', '2395 + 9605', '4588 + 7412', '4588 + 7412', '7170 + 4830', '5985 + 6015']\n"
     ]
    }
   ],
   "source": [
    "print(sum_c('f1.txt','f2.txt',5000))\n",
    "print(sum_c('f1.txt','f2.txt',12000))"
   ]
  },
  {
   "cell_type": "raw",
   "id": "59d04c60",
   "metadata": {},
   "source": [
    "8 Classes\n",
    "Exercise 8.1: Rational numbers\n",
    "In this problem, we will write a class that can represent rational numbers, i.e. fractions p/q.\n",
    "\n",
    "(a) Create a class Rational which is initialized by two integers, p and q, the nominator and denominator\n",
    "(b) Add a method to print the rational number as p/q\n",
    "\n",
    "(c) We would like to represent 10/20 by 1/2 instead, hence write a function that computes the greatest common divisor, and ensure that every rational number is simplified\n",
    "\n",
    "(d) Add a method so that we can add two rational numbers with r1 + r2\n",
    "\n",
    "(e) Add a method to subtract two rational numbers. (__sub__)\n",
    "\n",
    "(f) Add a method to multiply two rational numbers. (__mul__)\n",
    "\n",
    "g) Add a method to divide two rational numbers. (__div__)\n",
    "\n",
    "(i) Add a method to convert the rational number to a floating point (the __float__() method may be handy)."
   ]
  },
  {
   "cell_type": "code",
   "execution_count": 20,
   "id": "dd15b4e4",
   "metadata": {},
   "outputs": [
    {
     "name": "stdout",
     "output_type": "stream",
     "text": [
      "creating two rational numbers\n",
      "8 / 4\n",
      "4 / 2\n",
      "adding numbers\n",
      "32 / 8\n",
      "4.0 / 1.0\n",
      "subtracting numbers\n",
      "0 / 8\n",
      "0.0 / 1.0\n",
      "multiply numbers\n",
      "32 / 8\n",
      "4.0 / 1.0\n",
      "divide numbers\n",
      "16 / 16\n",
      "1.0 / 1.0\n",
      "check if equal or not numbers\n",
      "True\n",
      "rational to float\n",
      "2.0\n"
     ]
    }
   ],
   "source": [
    "import math\n",
    "class Rational:\n",
    "    def __init__(self,nom,denom):\n",
    "        self.nom = nom\n",
    "        self.denom = denom\n",
    "    \n",
    "    # b) print as p/q\n",
    "    def print_pq(self):\n",
    "        print(self.nom,\"/\",self.denom)\n",
    "    \n",
    "    # c) greatest common divisor\n",
    "    def simplify(self):\n",
    "        gcd = math.gcd(self.nom,self.denom)\n",
    "        nom = self.nom / gcd\n",
    "        denom = self.denom / gcd\n",
    "        return Rational(nom,denom)\n",
    "    \n",
    "    # d) add rational numbers\n",
    "    def __add__(self,others):\n",
    "        nom = self.nom * others.denom + others.nom * self.denom\n",
    "        denom = self.denom * others.denom\n",
    "        return Rational(nom,denom)\n",
    "    \n",
    "    # e) subtract rational numbers\n",
    "    def __sub__(self,others):\n",
    "        nom = self.nom * others.denom - others.nom * self.denom\n",
    "        denom = self.denom * others.denom\n",
    "        return Rational(nom,denom)\n",
    "    \n",
    "    # f) multiply rational numbers\n",
    "    def __mul__(self,others):\n",
    "        nom = self.nom * others.nom\n",
    "        denom = self.denom * others.denom\n",
    "        return Rational(nom,denom)\n",
    "    \n",
    "    # g) divide rational numbers\n",
    "    def __div__(self,others):\n",
    "        nom = self.nom * others.denom\n",
    "        denom = self.denom * others.nom\n",
    "        return Rational(nom,denom)\n",
    "    \n",
    "    # h) compare rational numbers if equal or not\n",
    "    def __eq__(self,others):\n",
    "        f1 = self.simplify()\n",
    "        f2 = others.simplify()\n",
    "        return f1.nom == f2.nom \n",
    "    \n",
    "    # i) ratinoal number to float number\n",
    "    def __float__(self):\n",
    "        return float(self.nom)/float(self.denom)\n",
    "    \n",
    "    \n",
    "print(\"creating two rational numbers\",end=\"\\n\")\n",
    "a = Rational(8,4)\n",
    "b = Rational(4,2)\n",
    "a.print_pq()\n",
    "b.print_pq()\n",
    "\n",
    "print(\"adding numbers\",end=\"\\n\")\n",
    "result = a.__add__(b)\n",
    "result.print_pq()\n",
    "result.simplify().print_pq()\n",
    "\n",
    "print(\"subtracting numbers\",end=\"\\n\")\n",
    "result = a.__sub__(b)\n",
    "result.print_pq()\n",
    "result.simplify().print_pq()\n",
    "\n",
    "print(\"multiply numbers\",end=\"\\n\")\n",
    "result = a.__mul__(b)\n",
    "result.print_pq()\n",
    "result.simplify().print_pq()\n",
    "\n",
    "print(\"divide numbers\",end=\"\\n\")\n",
    "result = a.__div__(b)\n",
    "result.print_pq()\n",
    "result.simplify().print_pq()\n",
    "\n",
    "print(\"check if equal or not numbers\",end=\"\\n\")\n",
    "result = a.__eq__(b)\n",
    "print(result)\n",
    "\n",
    "print(\"rational to float\",end=\"\\n\")\n",
    "result = a.__float__()\n",
    "print(result)"
   ]
  },
  {
   "cell_type": "raw",
   "id": "8dc3d4f4",
   "metadata": {},
   "source": [
    "\n",
    "Exercise 8.2: Rock Paper Scissors\n",
    "\n",
    "In this problem, we will finish an implementation for Rock-Paper-Scissors. We have written some code\n",
    "to get you started, now it’s up to you to finish the implementation\n"
   ]
  },
  {
   "cell_type": "code",
   "execution_count": null,
   "id": "37dbd280",
   "metadata": {},
   "outputs": [],
   "source": [
    "#########################\n",
    "# game.py\n",
    "\n",
    "class Game:\n",
    "    def __init__(self, agent1, agent2):\n",
    "        self.moves_a1 = []\n",
    "        self.moves_a2 = []\n",
    "        self.nround = 0\n",
    "        self.score_a1 = 0\n",
    "        self.score_a2 = 0\n",
    "\n",
    "        self.agent1 = agent1\n",
    "        self.agent2 = agent2\n",
    "\n",
    "    def round(self):\n",
    "        print('Round {}: '.format(self.nround+1))\n",
    "        # we pass along history so a player can take that into account when\n",
    "        # deciding the next move\n",
    "        move_a1 = self.agent1.getMove(self.moves_a2, self.moves_a1)\n",
    "        move_a2 = self.agent2.getMove(self.moves_a1, self.moves_a2)\n",
    "\n",
    "        # compare the moves and decide who wins\n",
    "        outcome = self.compare(move_a1, move_a2)\n",
    "\n",
    "        # output outcome of current round\n",
    "        if outcome == 1:\n",
    "            print('Player 1 wins: {} beats {}'.format(move_a1, move_a2))\n",
    "            self.score_a1 += 1\n",
    "        elif outcome == 0:\n",
    "            print('This round is tied, both players played {}'.format(move_a1))\n",
    "            self.score_a1 += 1\n",
    "            self.score_a2 += 1\n",
    "        else:\n",
    "            print('Player 2 wins: {} beats {}'.format(move_a2, move_a1))\n",
    "            self.score_a2 += 1\n",
    "\n",
    "        self.moves_a1.append(move_a1)\n",
    "        self.moves_a2.append(move_a2)\n",
    "\n",
    "    def play(self, nrounds):\n",
    "        for r in range(nrounds):\n",
    "            self.round()\n",
    "            self.nround += 1\n",
    "\n",
    "    def summary(self):\n",
    "        # print some summary of the games\n",
    "        print('='*20)\n",
    "        if self.score_a1 > self.score_a2:\n",
    "            print('Player 1 wins')\n",
    "        elif self.score_a1 < self.score_a2:\n",
    "            print('Player 2 wins')\n",
    "        else:\n",
    "            print('The game ends in a tie')\n",
    "\n",
    "        print('Final score: {} - {}'.format(self.score_a1, self.score_a2))\n",
    "\n",
    "        # To implement: find the move that was played most often\n",
    "        r = 0\n",
    "        p = 0\n",
    "        s = 0\n",
    "        for i in self.moves_a1:\n",
    "            if(i == 'r'):\n",
    "                r += 1\n",
    "            elif(i == 's'):\n",
    "                s += 1\n",
    "            else:\n",
    "                p += 1\n",
    "        for i in self.moves_a2:\n",
    "            if(i == 'r'):\n",
    "                r += 1\n",
    "            elif(i == 's'):\n",
    "                s += 1\n",
    "            else:\n",
    "                p += 1\n",
    "\n",
    "        # YOUR CODE HERE\n",
    "        most_played = ''\n",
    "        if(r > p and r > s):\n",
    "            most_played = 'r'\n",
    "        if(p > r and p > s):\n",
    "            most_played = 'p'\n",
    "        if(s > r and s > p):\n",
    "            most_played = 's'\n",
    "\n",
    "        print('Most played move: {}'.format(most_played))\n",
    "        print('='*20)\n",
    "\n",
    "    def compare(self, move1, move2):\n",
    "        # returns 1 if move1 wins, 0 if it's a tie, and -1 if move2 wins\n",
    "        if(move1 == 'r' and move2 == 's'):\n",
    "            return 1\n",
    "        if(move1 == 'p' and move2 == 'r'):\n",
    "            return 1\n",
    "        if(move1 == 's' and move2 == 'p'):\n",
    "            return 1\n",
    "\n",
    "        if(move2 == 'r' and move1 == 's'):\n",
    "            return -1\n",
    "        if(move2 == 'p' and move1 == 'r'):\n",
    "            return -1\n",
    "        if(move2 == 's' and move1 == 'p'):\n",
    "            return -1\n",
    "\n",
    "        if(move1 == 'r' and move2 == 'r') or (move1 == 's' and move2 == 's') or (move1 == 'p' and move2 == 'p'):\n",
    "            return 0\n",
    "############################\n",
    "# agent.py\n",
    "\n",
    "import random\n",
    "\n",
    "\n",
    "class Agent:\n",
    "    def getMove(self, moves_other, moves_self):\n",
    "        pass\n",
    "\n",
    "\n",
    "class InstructorAgent(Agent):\n",
    "    def __init__(self):\n",
    "        p_rock = random.random()\n",
    "        p_scissors = random.random()\n",
    "        p_paper = random.random()\n",
    "        p_total = p_rock + p_scissors + p_paper\n",
    "\n",
    "        self.p_rock = p_rock / p_total\n",
    "        self.p_scissors = self.p_rock + p_scissors / p_total\n",
    "\n",
    "    def getMove(self, moves_other, moves_self):\n",
    "        random_move = random.random()\n",
    "        if random_move < self.p_rock:\n",
    "            return 'r'\n",
    "        elif random_move < self.p_scissors:\n",
    "            return 's'\n",
    "        else:\n",
    "            return 'p'\n",
    "\n",
    "\n",
    "class MyAgent(Agent):\n",
    "    def getMove(self, moves_other, moves_self):\n",
    "        # Since instructor agent purely based on random moves, best strategy is to act randomly without a pattern\n",
    "        r_move = random.randint(0, 60)\n",
    "        if r_move < 20:\n",
    "            return 'r'\n",
    "        elif r_move > 40:\n",
    "            return 's'\n",
    "        else:\n",
    "            return 'p'\n",
    "\n",
    "\n",
    "class HumanAgent(Agent):\n",
    "    def getMove(self, moves_other, moves_self):\n",
    "        val = input(\n",
    "            \"Enter your move: r for Rock, s for Scissors and p for Paper \\n\")\n",
    "        return val\n"
   ]
  },
  {
   "cell_type": "raw",
   "id": "b3018ebf",
   "metadata": {},
   "source": [
    "\n",
    "Exercise 8.3: Hangman agent\n",
    "\n",
    "Implement your own Hangman computer agent (see exercise 2.4) that is much more effective than the\n",
    "Agent that guesses random characters.\n",
    "\n",
    "Make sure you create a new class rather than overwriting the existing Agent class. You can of course\n",
    "inherit from the Agent class\n"
   ]
  },
  {
   "cell_type": "code",
   "execution_count": null,
   "id": "31141840",
   "metadata": {},
   "outputs": [],
   "source": [
    "def getGuess(self, hiddenWord):\n",
    "        '''\n",
    "        Query the user for a character as guess\n",
    "        \n",
    "        My strategy was to put characters in a list according to their frquency in words and go through that list while guessing\n",
    "        \n",
    "        '''\n",
    "        freq_characters = ['e', 't', 'a', 'o', 'i', 'n', 's', 'r', 'h', 'd', 'l',\n",
    "                           'u', 'c', 'm', 'f', 'y', 'w', 'g', 'p', 'b', 'v', 'k', 'x', 'q', 'j', 'z']\n",
    "        while True:\n",
    "            for ch in freq_characters:\n",
    "                if ch in self.available:\n",
    "                    self.available.remove(ch)\n",
    "                    freq_characters.remove(ch)\n",
    "                    return ch\n",
    "                else:\n",
    "                    print('Not a valid guess, please pick from:')\n",
    "                    print(' '.join(self.available))"
   ]
  },
  {
   "cell_type": "raw",
   "id": "a5c82c5e",
   "metadata": {},
   "source": [
    "Exercise 8.5: Implementing the set class\n",
    "\n",
    "Write a class mySet that has the same basic functionality as the Python set data structure. Base your implementation on a dictionary.\n"
   ]
  },
  {
   "cell_type": "code",
   "execution_count": 33,
   "id": "d48b8abf",
   "metadata": {},
   "outputs": [
    {
     "name": "stdout",
     "output_type": "stream",
     "text": [
      "3\n",
      "False\n",
      "{'a': None, 'j': None, 'n': None, 'h': None}\n",
      "{'a': None, 'j': None, 'n': None}\n",
      "{}\n"
     ]
    }
   ],
   "source": [
    "class mySet:\n",
    "    def __init__(self,dictionary):\n",
    "        self.dictionary = dictionary\n",
    "    \n",
    "    # Method to print set\n",
    "    def print_(self):\n",
    "        return print(self.dictionary)\n",
    "    \n",
    "    # Returns the length of the set\n",
    "    def length(self):\n",
    "        return len(self.dictionary)\n",
    "    \n",
    "    # Returns true if set contains the given element, else returns false\n",
    "    def contains(self,val):\n",
    "        for x in self.dictionary:\n",
    "            if(x == val):\n",
    "                return True\n",
    "        return False\n",
    "    \n",
    "    def add(self,val):\n",
    "        self.dictionary[val] = None\n",
    "        \n",
    "    def remove(self,val):\n",
    "        self.dictionary.pop(val)\n",
    "        \n",
    "    def clear(self):\n",
    "        self.dictionary.clear()        \n",
    "\n",
    "dictionary = {\"a\":None,\"j\":None,\"n\":None}\n",
    "my_set = mySet(dictionary)\n",
    "print(my_set.length())\n",
    "print(my_set.contains(\"h\"))\n",
    "my_set.add(\"h\")\n",
    "my_set.print_()\n",
    "my_set.remove(\"h\")\n",
    "my_set.print_()\n",
    "my_set.clear()\n",
    "my_set.print_()"
   ]
  },
  {
   "cell_type": "raw",
   "id": "49d5b29e",
   "metadata": {},
   "source": [
    "Exercise 8.6: Binary search tree\n",
    "\n",
    "In this exercise, we will implement a binary search tree\n",
    "\n",
    "(a) Define a class Node, and write the constructor, which takes one argument, value, and initializes the left and right children to None.\n",
    "\n",
    "(b) Write a function to print the tree.\n",
    "\n",
    "(c) Write a function that inserts a new value in the tree at the right location.\n",
    "\n",
    "(d) Write a function that looks up a value in the tree.\n",
    "\n",
    "(e) Write a function that removes a value from the tree.\n"
   ]
  },
  {
   "cell_type": "code",
   "execution_count": null,
   "id": "b1498f09",
   "metadata": {},
   "outputs": [],
   "source": [
    "class Node:\n",
    "    def __init__(self,value):\n",
    "        self.value = value\n",
    "        self.left = None\n",
    "        self.right = None\n",
    "    \n",
    "    def print_tree(self):\n",
    "        if self.left:\n",
    "            self.left.print_tree()\n",
    "         \n",
    "        print(self.value)\n",
    "        else:\n",
    "            self.right.print_tree()\n",
    "    \n",
    "    def insert(self,value):\n",
    "        if self.value:\n",
    "            if value < self.value:\n",
    "                if self.left = None:\n",
    "                    self.left = Node(value)\n",
    "                elif value > self.value:\n",
    "                    if self.right = None:\n",
    "                        self.right = Node(value)\n",
    "                    else:\n",
    "                        self.right.insert(value)\n",
    "                else:\n",
    "                    self.left.insert(value)\n",
    "        else:\n",
    "            self.value = value\n",
    "    \n",
    "        \n",
    "    def value_exists(self,value):\n",
    "        if(self.value == None):\n",
    "            return False\n",
    "        if(self.value == value):\n",
    "            return True\n",
    "        \n",
    "        if value_exists(self.left,value):\n",
    "            return True\n",
    "        \n",
    "        return value_exists(self.right,value)\n",
    "    "
   ]
  }
 ],
 "metadata": {
  "kernelspec": {
   "display_name": "Python 3 (ipykernel)",
   "language": "python",
   "name": "python3"
  },
  "language_info": {
   "codemirror_mode": {
    "name": "ipython",
    "version": 3
   },
   "file_extension": ".py",
   "mimetype": "text/x-python",
   "name": "python",
   "nbconvert_exporter": "python",
   "pygments_lexer": "ipython3",
   "version": "3.9.7"
  }
 },
 "nbformat": 4,
 "nbformat_minor": 5
}
