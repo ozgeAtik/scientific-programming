{
 "cells": [
  {
   "cell_type": "raw",
   "id": "3d49f005",
   "metadata": {},
   "source": [
    "9 Numpy\n",
    "\n",
    "Generate matrices A, with random Gaussian entries, B, a Toeplitz matrix, where A ∈ R^n×m and B ∈ R^m×m for n = 200, m = 500\n"
   ]
  },
  {
   "cell_type": "code",
   "execution_count": 17,
   "id": "f32f5b29",
   "metadata": {},
   "outputs": [],
   "source": [
    "import random\n",
    "import numpy as np\n",
    "from scipy.linalg import toeplitz\n",
    "from numpy import linalg as LA\n",
    "\n",
    "# A with random entries, size: 200x500\n",
    "A = np.random.normal(size=(200, 500))\n",
    "\n",
    "# B will be a toeoplitz matrix with size 500x500\n",
    "B = toeplitz(np.random.random(500), np.random.random(500))"
   ]
  },
  {
   "cell_type": "raw",
   "id": "2a1e9005",
   "metadata": {},
   "source": [
    "Exercise 9.1: Matrix operations\n",
    "\n",
    "Calculate A + A, AA^T, A^TA and AB. Write a function that computes A(B − λI) for any λ"
   ]
  },
  {
   "cell_type": "code",
   "execution_count": 18,
   "id": "18dc51e8",
   "metadata": {},
   "outputs": [
    {
     "name": "stdout",
     "output_type": "stream",
     "text": [
      "A + A =  [[ 2.84275264  0.50546367 -1.93148363 ...  2.87538087  5.0904692\n",
      "  -0.79165013]\n",
      " [-1.48787721  2.34885592 -1.26106722 ...  0.4888617   3.44078331\n",
      "  -2.97208135]\n",
      " [-1.8741206   1.59308388  0.10888081 ...  0.11288459 -0.36154292\n",
      "   1.71325858]\n",
      " ...\n",
      " [ 2.59709164  1.72488556  0.65259199 ... -0.56297474  1.87049134\n",
      "   0.2844502 ]\n",
      " [-0.91662819 -1.36585323 -1.6585358  ... -2.11236656  3.28190383\n",
      "   2.85714219]\n",
      " [-0.66455694 -2.16084259 -3.22767398 ... -2.60771587 -0.24588849\n",
      "   1.41945927]]\n",
      "AA^T =  [[524.95023465 -15.20874845  -8.82144139 ... -13.84891686  21.2140877\n",
      "    6.04662592]\n",
      " [-15.20874845 514.33779884  40.10430072 ... -23.00895165   5.42336794\n",
      "  -15.30004804]\n",
      " [ -8.82144139  40.10430072 421.90053483 ... -10.9562989  -24.48046968\n",
      "  -36.81207356]\n",
      " ...\n",
      " [-13.84891686 -23.00895165 -10.9562989  ... 480.06943017 -37.04077929\n",
      "   -1.34906189]\n",
      " [ 21.2140877    5.42336794 -24.48046968 ... -37.04077929 513.71014377\n",
      "   13.14411066]\n",
      " [  6.04662592 -15.30004804 -36.81207356 ...  -1.34906189  13.14411066\n",
      "  473.79372459]]\n",
      "A^TA =  [[203.49923026  18.68482032 -15.601773   ...  -2.46403675   2.47595984\n",
      "   -3.70296599]\n",
      " [ 18.68482032 174.10457912  -5.03415878 ...  10.30903585  -6.15152081\n",
      "   14.54105391]\n",
      " [-15.601773    -5.03415878 204.33691801 ...  -7.63369689  -4.90849688\n",
      "  -37.12067987]\n",
      " ...\n",
      " [ -2.46403675  10.30903585  -7.63369689 ... 243.90412387 -16.77105887\n",
      "   -1.69666029]\n",
      " [  2.47595984  -6.15152081  -4.90849688 ... -16.77105887 204.29898551\n",
      "  -22.73709928]\n",
      " [ -3.70296599  14.54105391 -37.12067987 ...  -1.69666029 -22.73709928\n",
      "  208.17255591]]\n",
      "AB =  [[  2.92115903  -3.77442513   6.60827802 ...  13.81658918   2.73383958\n",
      "   -3.34571213]\n",
      " [ -8.15021198 -12.28244424  -6.6351039  ... -15.8884935  -13.65237268\n",
      "    3.45660912]\n",
      " [ -5.69057061  -4.9695565   -0.95912061 ... -16.27105654 -16.49975862\n",
      "   -0.23301044]\n",
      " ...\n",
      " [ -4.0492985   -1.55808482  -4.58785803 ... -11.40542213  -3.92158835\n",
      "   -0.99615825]\n",
      " [ -8.59417781  -8.05189051 -25.36786109 ... -10.50897157  -5.00352478\n",
      "  -14.40924538]\n",
      " [ -7.45421715  -9.19550707  -8.54946039 ...  -2.7357273  -22.05115324\n",
      "  -22.26894264]]\n"
     ]
    }
   ],
   "source": [
    "# A + A\n",
    "print(\"A + A = \", A+A)\n",
    "\n",
    "# AA^T\n",
    "print(\"AA^T = \", np.dot(A,A.transpose()))\n",
    "\n",
    "# A^TA\n",
    "print(\"A^TA = \", np.dot(A.transpose(),A))\n",
    "\n",
    "# AB\n",
    "print(\"AB = \", np.dot(A,B))\n",
    "\n",
    "# function that computes A(B − λI) for any λ\n",
    "x = LA.eig(B)"
   ]
  },
  {
   "cell_type": "raw",
   "id": "dc5ee5a2",
   "metadata": {},
   "source": [
    "Exercise 9.2: Solving a linear system\n",
    "\n",
    "Generate a vector b with m entries and solve Bx = b.\n",
    "\n",
    "."
   ]
  },
  {
   "cell_type": "code",
   "execution_count": 19,
   "id": "b74ae9bf",
   "metadata": {},
   "outputs": [],
   "source": [
    "# b with 500 entries\n",
    "b = np.random.random(500)\n",
    "x = LA.solve(B,b)"
   ]
  },
  {
   "cell_type": "raw",
   "id": "f4089545",
   "metadata": {},
   "source": [
    "\n",
    "Exercise 9.3: Norms\n",
    "Compute the Frobenius norm of A: ||A||F and the infinity norm of B: ||B||∞. Also find the largest and smallest singular values of B.\n"
   ]
  },
  {
   "cell_type": "code",
   "execution_count": 20,
   "id": "3240b3a9",
   "metadata": {},
   "outputs": [
    {
     "name": "stdout",
     "output_type": "stream",
     "text": [
      "||A||F:  315.5072918785422\n",
      "||B||∞:  265.3402946224926\n",
      "B max:  0.9999310699409832\n",
      "B min:  0.0006571283609017042\n"
     ]
    }
   ],
   "source": [
    "\n",
    "c = LA.norm(A,ord='fro')\n",
    "print(\"||A||F: \",c)\n",
    "\n",
    "d = LA.norm(B, np.inf)\n",
    "print(\"||B||∞: \", d)\n",
    "\n",
    "print(\"B max: \", B.max())\n",
    "print(\"B min: \", B.min())"
   ]
  },
  {
   "cell_type": "raw",
   "id": "81f77d98",
   "metadata": {},
   "source": [
    "Exercise 9.4: Power iteration\n",
    "\n",
    "Generate a matrix Z, n × n, with Gaussian entries, and use the power iteration to find the largest eigenvalue and corresponding eigenvector of Z. How many iterations are needed till convergence? Optional: use the time.clock() method to compare computation time when varying n.\n"
   ]
  },
  {
   "cell_type": "code",
   "execution_count": 21,
   "id": "1a1c9bb2",
   "metadata": {},
   "outputs": [
    {
     "name": "stdout",
     "output_type": "stream",
     "text": [
      "Eigenvalue: 21.50597591288819\n",
      "Eigenvector: [ 0.012464   -0.5686694   0.38296956  0.18023416  0.33757578 -0.23324853\n",
      " -0.02060162  0.39427207 -0.21354041  0.13269799  0.51581462 -0.11117344\n",
      " -0.05339858 -0.42581271 -0.55355385  0.38840121  0.05875538  0.20618931\n",
      "  0.52891837  0.23619465  0.45655314  0.35253689 -0.24823781  0.00578838\n",
      " -0.01301274 -0.04010152 -0.02964202 -0.0518974  -0.43696403 -0.20329463\n",
      " -1.00704452  0.31474655  0.02998803  0.10304439  0.46359956  0.40913483\n",
      " -0.05438054 -0.38558433  0.10750593 -0.44498321  0.71701591  0.13540448\n",
      " -0.20883901 -0.09896675 -0.38525465  0.03431371 -0.1162948   0.44885768\n",
      "  0.05368905  0.02360175 -0.24822555  0.03421956 -0.13795085 -0.15563794\n",
      "  0.08950792 -0.07332884 -0.22053701 -0.55490118 -0.38988778 -0.12402248\n",
      "  0.16851772 -0.03022144  0.29473923 -0.48515152  0.36488665 -0.56482712\n",
      "  0.66910283  0.21742664  0.24578652  0.03965308  0.16583579  0.2045352\n",
      " -0.07573783  0.07823195  0.19873263 -0.03319316 -0.11654597 -0.81346773\n",
      " -0.07063909  0.20801179 -0.24896892  0.11095738  0.09354776 -0.76280849\n",
      "  0.09342889  0.12649015  0.05584663 -0.3839678  -0.07035403 -0.16085821\n",
      "  0.02005414  0.28667723 -0.35327687 -0.13105746 -0.25121159  0.19395913\n",
      " -0.36100313  0.08423753 -0.44313506 -0.25069699 -0.4393199  -0.46300917\n",
      " -0.00630865  0.12867437  0.33920937  0.43469331 -0.44736675  0.52213424\n",
      " -0.36015787 -0.40463978 -0.48418335 -0.60478052  0.38763502  0.11747127\n",
      "  1.         -0.31326035 -0.57984692 -0.58149919 -0.07782493 -0.19184739\n",
      "  0.51538488 -0.37926259 -0.1340803   0.16254271  0.0833071   0.34148333\n",
      " -0.0437559   0.27836646 -0.62367596 -0.0861403   0.35531453  0.2920803\n",
      " -0.36364733 -0.12399962 -0.18748419  0.46781072 -0.04526506 -0.0251977\n",
      "  0.10256309  0.52452685 -0.40417292 -0.03847099 -0.1545947   0.36237998\n",
      "  0.02815825 -0.32552173  0.63999989  0.06146273 -0.64695412  0.19647996\n",
      "  0.48988324 -0.04174842 -0.05763238  0.19372756 -0.38531791  0.10208844\n",
      " -0.2040386   0.06600118 -0.09926004 -0.33284892  0.23482655 -0.11501016\n",
      "  0.06160041  0.59186157 -0.74960668  0.06916816 -0.39232069 -0.14801612\n",
      " -0.3024645   0.32919782 -0.35546114  0.14351638  0.48542847  0.30946637\n",
      "  0.18654152  0.31599563  0.41613666  0.36384939 -0.05364675 -0.35573321\n",
      "  0.07850415  0.08846116 -0.43683074 -0.04194856  0.13570193  0.24982563\n",
      " -0.38210843 -0.08559278  0.19933218  0.20027248  0.20875532 -0.03596442\n",
      " -0.16111573 -0.34565143 -0.04959287  0.23302755 -0.4895709  -1.03062323\n",
      "  0.1575308  -0.0013107 ]\n"
     ]
    }
   ],
   "source": [
    "# Matrix Z with size 200x200 with Gaussian entries\n",
    "Z = np.random.normal(size=(200,200))\n",
    "x = np.ones(200)\n",
    "\n",
    "for i in range(8):\n",
    "    x = np.dot(Z, x)\n",
    "    lambda_1 = abs(x).max()\n",
    "    x = x / x.max()\n",
    "\n",
    "print('Eigenvalue:', lambda_1)\n",
    "print('Eigenvector:', x)\n"
   ]
  },
  {
   "cell_type": "raw",
   "id": "3a46f16c",
   "metadata": {},
   "source": [
    "Exercise 9.6: Nearest neighbor\n",
    "\n",
    "Write a function that takes a value z and an array A and finds the element in A that is closest to z. The function should return the closest value, not index."
   ]
  },
  {
   "cell_type": "code",
   "execution_count": 22,
   "id": "5b300f88",
   "metadata": {},
   "outputs": [
    {
     "name": "stdout",
     "output_type": "stream",
     "text": [
      "0.6960306866043235\n"
     ]
    }
   ],
   "source": [
    "# To find the closest, I need to find minimum difference between two elements from A and z.\n",
    "\n",
    "def findClosest(z,A):\n",
    "    i = (np.abs(A - z)).argmin()\n",
    "    return i\n",
    "\n",
    "z = 0.7\n",
    "A = np.random.random(50)\n",
    "\n",
    "index = findClosest(z,A)\n",
    "print(A[index])\n",
    "    "
   ]
  },
  {
   "cell_type": "code",
   "execution_count": null,
   "id": "7a6520a1",
   "metadata": {},
   "outputs": [],
   "source": []
  }
 ],
 "metadata": {
  "kernelspec": {
   "display_name": "Python 3 (ipykernel)",
   "language": "python",
   "name": "python3"
  },
  "language_info": {
   "codemirror_mode": {
    "name": "ipython",
    "version": 3
   },
   "file_extension": ".py",
   "mimetype": "text/x-python",
   "name": "python",
   "nbconvert_exporter": "python",
   "pygments_lexer": "ipython3",
   "version": "3.9.7"
  }
 },
 "nbformat": 4,
 "nbformat_minor": 5
}
