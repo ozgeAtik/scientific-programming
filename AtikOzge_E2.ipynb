{
 "cells": [
  {
   "cell_type": "raw",
   "id": "42d7e42e",
   "metadata": {},
   "source": [
    "Ozge Atik - 20180808075\n",
    "Exercise 2"
   ]
  },
  {
   "cell_type": "raw",
   "id": "ce8fbeb0",
   "metadata": {},
   "source": [
    "# 4 Lists\n",
    "\n",
    "Exercise 4.1: Short questions\n",
    "a) Write a function that prints the elements of a list"
   ]
  },
  {
   "cell_type": "code",
   "execution_count": 2,
   "id": "7c35fc0c",
   "metadata": {},
   "outputs": [
    {
     "name": "stdout",
     "output_type": "stream",
     "text": [
      "1 2 5 4 6 3 8 "
     ]
    }
   ],
   "source": [
    "def print_elements(a_list):\n",
    "    for i in a_list:\n",
    "        print(i,end=\" \")\n",
    "a = [1,2,5,4,6,3,8]\n",
    "print_elements(a)"
   ]
  },
  {
   "cell_type": "raw",
   "id": "ae3253a3",
   "metadata": {},
   "source": [
    "b) Write a function that prints the elements of a list in reverse"
   ]
  },
  {
   "cell_type": "code",
   "execution_count": 7,
   "id": "9381b932",
   "metadata": {},
   "outputs": [
    {
     "name": "stdout",
     "output_type": "stream",
     "text": [
      "8 3 6 4 5 2 1 "
     ]
    }
   ],
   "source": [
    "def print_elements(a_list):\n",
    "    a_list.reverse()\n",
    "    for i in a_list:\n",
    "        print(i,end=\" \")\n",
    "a = [1,2,5,4,6,3,8]\n",
    "print_elements(a)"
   ]
  },
  {
   "cell_type": "raw",
   "id": "14ce05ab",
   "metadata": {},
   "source": [
    "c) Write your own implementation of the len function that returns the number of elements in a list"
   ]
  },
  {
   "cell_type": "code",
   "execution_count": 9,
   "id": "c2b01f67",
   "metadata": {},
   "outputs": [
    {
     "name": "stdout",
     "output_type": "stream",
     "text": [
      "8\n"
     ]
    }
   ],
   "source": [
    "def length(a_list):\n",
    "    length = 0\n",
    "    for i in a_list:\n",
    "        length=length+1\n",
    "    print(length)\n",
    "a_list=[8,7,4,5,2,6,9,1]\n",
    "length(a_list)"
   ]
  },
  {
   "cell_type": "raw",
   "id": "eb192d38",
   "metadata": {},
   "source": [
    "Exercise 4.2: Copying lists\n",
    "a) Create a list a with some entries.\n",
    "b) Now set b = a\n",
    "c) Change b[1]"
   ]
  },
  {
   "cell_type": "code",
   "execution_count": 12,
   "id": "614c02fd",
   "metadata": {},
   "outputs": [
    {
     "name": "stdout",
     "output_type": "stream",
     "text": [
      "[5, 7, 2, 1, 6, 8, 7, 4]\n"
     ]
    }
   ],
   "source": [
    "a = [5,4,2,1,6,8,7,4]\n",
    "b = a\n",
    "b[1] = 7\n",
    "print(a)"
   ]
  },
  {
   "cell_type": "raw",
   "id": "787ca031",
   "metadata": {},
   "source": [
    "d) What happened to a?\n",
    "- When I changed b[1], a also changed.\n",
    "\n",
    "e) Now set c = a[:]\n",
    "f) Change c[2]"
   ]
  },
  {
   "cell_type": "code",
   "execution_count": 17,
   "id": "9db59a33",
   "metadata": {},
   "outputs": [
    {
     "name": "stdout",
     "output_type": "stream",
     "text": [
      "[5, 7, 2, 1, 6, 8, 7, 4]>> a\n",
      "[5, 7, 9, 1, 6, 8, 7, 4]>> c"
     ]
    }
   ],
   "source": [
    "a = [5,4,2,1,6,8,7,4]\n",
    "b = a\n",
    "b[1] = 7\n",
    "\n",
    "c = a[:]\n",
    "c[2] = 9\n",
    "print(a,end=\">> a\")\n",
    "print(\"\")\n",
    "print(c,end=\">> c\")\n"
   ]
  },
  {
   "cell_type": "raw",
   "id": "daadf3fb",
   "metadata": {},
   "source": [
    "g) What happened to a?\n",
    "- a didn't change but c changed unlike what I did in d."
   ]
  },
  {
   "cell_type": "raw",
   "id": "a10faac7",
   "metadata": {},
   "source": [
    "Now create a function set_first_elem_to_zero(l) that takes a list, sets its first entry to zero, and\n",
    "returns the list."
   ]
  },
  {
   "cell_type": "code",
   "execution_count": 18,
   "id": "d8e3995d",
   "metadata": {},
   "outputs": [
    {
     "name": "stdout",
     "output_type": "stream",
     "text": [
      "[0, 4, 5, 7, 8, 2, 6]\n",
      "[0, 4, 5, 7, 8, 2, 6]\n"
     ]
    }
   ],
   "source": [
    "def set_first_elem_to_zero(l):\n",
    "    l[0] = 0\n",
    "    return l\n",
    "l = [1,4,5,7,8,2,6]\n",
    "l2 = set_first_elem_to_zero(l)\n",
    "\n",
    "print(l)\n",
    "print(l2)"
   ]
  },
  {
   "cell_type": "raw",
   "id": "9cbedb4b",
   "metadata": {},
   "source": [
    "What happens to the original list?\n",
    "- Original list also changes."
   ]
  },
  {
   "cell_type": "raw",
   "id": "0a8e137b",
   "metadata": {},
   "source": [
    "Exercise 4.3: Lists of lists\n",
    "\n",
    "What is the difference between a and b:\n",
    "a = [[]] * 3\n",
    "b = [[] for _ in xrange(3)]\n",
    "\n",
    "- No difference. Both lists are same."
   ]
  },
  {
   "cell_type": "raw",
   "id": "d5636680",
   "metadata": {},
   "source": [
    "Exercise 4.4: Lists and functions\n",
    "\n",
    "Write a function that takes a list and an index, and sets the value of the list at the given index to 0."
   ]
  },
  {
   "cell_type": "code",
   "execution_count": 21,
   "id": "0c6aedcc",
   "metadata": {},
   "outputs": [
    {
     "name": "stdout",
     "output_type": "stream",
     "text": [
      "[4, 2, 0, 8, 7, 6, 2]\n"
     ]
    }
   ],
   "source": [
    "def set_zero(l,index):\n",
    "    l[index] = 0\n",
    "l = [4,2,1,8,7,6,2]\n",
    "set_zero(l,2)\n",
    "print(l)\n",
    "    "
   ]
  },
  {
   "cell_type": "raw",
   "id": "454591b1",
   "metadata": {},
   "source": [
    "Exercise 4.5: Primes\n",
    "\n",
    "In Section 3 you wrote a function that prints all primes up to n, and a function that prints the first n\n",
    "primes. Update these functions such that they return lists instead."
   ]
  },
  {
   "cell_type": "code",
   "execution_count": 22,
   "id": "dcd7de40",
   "metadata": {},
   "outputs": [
    {
     "name": "stdout",
     "output_type": "stream",
     "text": [
      "[2, 3, 5, 7, 11, 13, 17, 19, 23, 29, 31]\n"
     ]
    }
   ],
   "source": [
    "# Function to check if a number is prime.\n",
    "def prime_number(x):\n",
    "    is_prime=True\n",
    "    if(x > 1):\n",
    "        for i in range(2,x):\n",
    "            if(x%i==0):\n",
    "                is_prime=False\n",
    "    return is_prime\n",
    "\n",
    "# Function that returns all primes up to n.\n",
    "def all_primes(n):\n",
    "    l=[]\n",
    "    for i in range(2,n):\n",
    "        if(prime_number(i)):\n",
    "            l.append(i)\n",
    "    return l\n",
    "print(all_primes(37))\n",
    "        "
   ]
  },
  {
   "cell_type": "raw",
   "id": "1e11aa73",
   "metadata": {},
   "source": [
    "\n",
    "Exercise 4.6: List comprehensions\n",
    "Let i, j = 1, . . . , n\n",
    "\n",
    "a) Generate a list with elements [i,j]"
   ]
  },
  {
   "cell_type": "code",
   "execution_count": 14,
   "id": "a9389149",
   "metadata": {},
   "outputs": [
    {
     "name": "stdout",
     "output_type": "stream",
     "text": [
      "[9, 10, 11, 12, 13, 14, 15, 16, 17, 18, 19, 20, 21, 22, 23, 24, 25, 26, 27, 28, 29, 30, 31, 32, 33, 34, 35, 36, 37, 38, 39, 40, 41, 42, 43, 44]\n"
     ]
    }
   ],
   "source": [
    "import random\n",
    "\n",
    "def generate_list(n):\n",
    "    i = random.randint(0,n)\n",
    "    j = random.randint(0,n)\n",
    "    if(i<j):\n",
    "        new_l = list(range(i,j+1))\n",
    "    else:\n",
    "        new_l = list(range(j,i+1))\n",
    "    return new_l\n",
    "print(generate_list(50))"
   ]
  },
  {
   "cell_type": "raw",
   "id": "b14c7cbe",
   "metadata": {},
   "source": [
    "\n",
    "b) Generate a list with elements [i,j] with i < j\n"
   ]
  },
  {
   "cell_type": "code",
   "execution_count": 16,
   "id": "7da41a6f",
   "metadata": {},
   "outputs": [
    {
     "name": "stdout",
     "output_type": "stream",
     "text": [
      "[19, 20, 21, 22, 23, 24, 25, 26, 27, 28, 29, 30, 31, 32, 33, 34, 35, 36, 37, 38, 39, 40, 41, 42, 43, 44, 45]\n"
     ]
    }
   ],
   "source": [
    "def generate_list(n):\n",
    "    i = random.randint(0,n)\n",
    "    j = random.randint(0,n)\n",
    "    while(i>j):\n",
    "        j = random.randint(0,n)\n",
    "\n",
    "    new_l = list(range(i,j+1))\n",
    "    \n",
    "    return new_l\n",
    "print(generate_list(50))"
   ]
  },
  {
   "cell_type": "raw",
   "id": "cb0f3b99",
   "metadata": {},
   "source": [
    "Exercise 4.7: Filter\n",
    "\n",
    "Implement filter using list\n",
    "comprehensions. Name your functions myfilter so you can compare with Python’s standard filter."
   ]
  },
  {
   "cell_type": "code",
   "execution_count": 2,
   "id": "7514ac19",
   "metadata": {},
   "outputs": [
    {
     "name": "stdout",
     "output_type": "stream",
     "text": [
      "[65, 1, 3]\n"
     ]
    }
   ],
   "source": [
    "# Filter odd numbers\n",
    "def my_filter(l):\n",
    "    return [i for i in l if i%2==1]\n",
    "\n",
    "l = [8,65,1,98,34,3]\n",
    "new_l = my_filter(l)\n",
    "print(new_l)"
   ]
  },
  {
   "cell_type": "raw",
   "id": "654b0a5c",
   "metadata": {},
   "source": [
    "Exercise 4.8: Flatten a list of lists\n",
    "\n",
    "Consider having a list with lists as elements, e.g. [[1,3], [3,6]].\n",
    "Write a function that takes such a list, and returns a list with as elements the elements of the sublists,\n",
    "e.g. [1, 3, 3, 6]."
   ]
  },
  {
   "cell_type": "code",
   "execution_count": 6,
   "id": "71c71f5f",
   "metadata": {},
   "outputs": [
    {
     "name": "stdout",
     "output_type": "stream",
     "text": [
      "[1, 3, 3, 6, 3, 2, 1]\n"
     ]
    }
   ],
   "source": [
    "def sublists(l):\n",
    "    new_l=[]\n",
    "    for i in l:\n",
    "        if(len(i)>1):\n",
    "            for j in i:\n",
    "                new_l.append(j)\n",
    "        else:\n",
    "            new_l.append(i)\n",
    "    return new_l\n",
    "\n",
    "l = [[1,3], [3,6],[3,2,1]]\n",
    "l2 = sublists(l)\n",
    "print(l2)"
   ]
  },
  {
   "cell_type": "raw",
   "id": "3a9a4c9f",
   "metadata": {},
   "source": [
    "Exercise 4.9: Finding the longest word\n",
    "\n",
    "Write a function that returns the longest word in a variable text that contains a sentence. While text\n",
    "may contain punctuation, these should not be taken into account. What happens with ties?\n",
    "As an example, consider: “Hello, how was the football match earlier today???”\n"
   ]
  },
  {
   "cell_type": "code",
   "execution_count": 8,
   "id": "80fc45c1",
   "metadata": {},
   "outputs": [
    {
     "name": "stdout",
     "output_type": "stream",
     "text": [
      "football\n"
     ]
    }
   ],
   "source": [
    "def longest_word(text):\n",
    "    words = text.split()\n",
    "    longest = 0\n",
    "    longest_word = \"\"\n",
    "    for i in words:\n",
    "        if(len(i) > longest):\n",
    "            longest = len(i)\n",
    "            longest_word = i\n",
    "    return longest_word\n",
    "t = \"Hello, how was the football match earlier today???\"\n",
    "print(longest_word(t))"
   ]
  },
  {
   "cell_type": "raw",
   "id": "e332c227",
   "metadata": {},
   "source": [
    "Exercise 4.10: Collatz sequence, part 2\n",
    "\n",
    "Recall the Collatz sequence problem from Section 1. Our goal is to find the number n < 1, 000, 000 that\n",
    "leads to the longest Collatz sequence.\n",
    "\n",
    "a) Write a function that for any n, returns its Collatz sequence as a list"
   ]
  },
  {
   "cell_type": "code",
   "execution_count": 12,
   "id": "d06c218f",
   "metadata": {},
   "outputs": [
    {
     "name": "stdout",
     "output_type": "stream",
     "text": [
      "[500000.0, 250000.0, 125000.0, 62500.0, 31250.0, 15625.0, 46876.0, 23438.0, 11719.0, 35158.0, 17579.0, 52738.0, 26369.0, 79108.0, 39554.0, 19777.0, 59332.0, 29666.0, 14833.0, 44500.0, 22250.0, 11125.0, 33376.0, 16688.0, 8344.0, 4172.0, 2086.0, 1043.0, 3130.0, 1565.0, 4696.0, 2348.0, 1174.0, 587.0, 1762.0, 881.0, 2644.0, 1322.0, 661.0, 1984.0, 992.0, 496.0, 248.0, 124.0, 62.0, 31.0, 94.0, 47.0, 142.0, 71.0, 214.0, 107.0, 322.0, 161.0, 484.0, 242.0, 121.0, 364.0, 182.0, 91.0, 274.0, 137.0, 412.0, 206.0, 103.0, 310.0, 155.0, 466.0, 233.0, 700.0, 350.0, 175.0, 526.0, 263.0, 790.0, 395.0, 1186.0, 593.0, 1780.0, 890.0, 445.0, 1336.0, 668.0, 334.0, 167.0, 502.0, 251.0, 754.0, 377.0, 1132.0, 566.0, 283.0, 850.0, 425.0, 1276.0, 638.0, 319.0, 958.0, 479.0, 1438.0, 719.0, 2158.0, 1079.0, 3238.0, 1619.0, 4858.0, 2429.0, 7288.0, 3644.0, 1822.0, 911.0, 2734.0, 1367.0, 4102.0, 2051.0, 6154.0, 3077.0, 9232.0, 4616.0, 2308.0, 1154.0, 577.0, 1732.0, 866.0, 433.0, 1300.0, 650.0, 325.0, 976.0, 488.0, 244.0, 122.0, 61.0, 184.0, 92.0, 46.0, 23.0, 70.0, 35.0, 106.0, 53.0, 160.0, 80.0, 40.0, 20.0, 10.0, 5.0, 16.0, 8.0, 4.0, 2.0, 1.0]\n"
     ]
    }
   ],
   "source": [
    "def collatz(number):\n",
    "    collatz_sequence = []\n",
    "    while(number!=1):\n",
    "        if(number%2==0):\n",
    "            number=number/2\n",
    "        else:\n",
    "            number=3*number+1\n",
    "        collatz_sequence.append(number)\n",
    "    return collatz_sequence\n",
    "number_x = 1000000\n",
    "print(collatz(number_x))\n",
    "    "
   ]
  },
  {
   "cell_type": "raw",
   "id": "498d7983",
   "metadata": {},
   "source": [
    "Exercise 4.11: Pivots\n",
    "\n",
    "Write a function that takes a value x and a list ys, and returns a list that contains the value x and all\n",
    "elements of ys such that all values y in ys that are smaller than x come first, then we element x and\n",
    "then the rest of the values in ys\n",
    "For example, the output of f(3, [6, 4, 1, 7]) should be [1, 3, 6, 4, 7]"
   ]
  },
  {
   "cell_type": "code",
   "execution_count": 9,
   "id": "c0febca3",
   "metadata": {},
   "outputs": [
    {
     "name": "stdout",
     "output_type": "stream",
     "text": [
      "[1, 3, 6, 4, 7]\n"
     ]
    }
   ],
   "source": [
    "def pivots(x,ys):\n",
    "    new_l = []\n",
    "    for i in ys:\n",
    "        if(i < x):\n",
    "            new_l.append(i)\n",
    "    new_l.append(x)\n",
    "    for j in ys:\n",
    "        if(j > x):\n",
    "            new_l.append(j)\n",
    "    return new_l\n",
    "\n",
    "print(pivots(3,[1,3,6,4,7]))"
   ]
  },
  {
   "cell_type": "raw",
   "id": "f394d70d",
   "metadata": {},
   "source": [
    "Exercise 4.12: Prime challenge\n",
    "\n",
    "Write the function primes(n) that return a list with all prime numbers up to n using three (or less)\n",
    "lines of code.\n",
    "Hint 1: Use lambda functions and list comprehensions.\n",
    "Hint 2: Use the first two lines to define two helper (lambda) functions."
   ]
  },
  {
   "cell_type": "code",
   "execution_count": 12,
   "id": "e6609f0f",
   "metadata": {},
   "outputs": [
    {
     "name": "stdout",
     "output_type": "stream",
     "text": [
      "[2, 3, 5, 7, 11, 13]\n"
     ]
    }
   ],
   "source": [
    "# Function to check if a number is prime.\n",
    "def prime_number(x):\n",
    "    is_prime=True\n",
    "    if(x > 1):\n",
    "        for i in range(2,x):\n",
    "            if(x%i==0):\n",
    "                is_prime=False\n",
    "    return is_prime\n",
    "\n",
    "def primes(n):\n",
    "    return [i for i in range(2,n) if prime_number(i)]\n",
    "\n",
    "print(primes(15))"
   ]
  },
  {
   "cell_type": "raw",
   "id": "ea45a9f2",
   "metadata": {},
   "source": [
    "# 5 Tuples\n",
    "\n",
    "Exercise 5.1: Swapping two values\n",
    "\n",
    "Suppose you have two variables: a and b. Now you want to set a equal to the value of b and at the\n",
    "same time set b equal to the value of a.\n",
    "The following obviously does not work\n",
    "a = b\n",
    "b = a\n",
    "so in some languages, you need to define a third variable like this\n",
    "t = a\n",
    "a = b\n",
    "b = t\n",
    "However, in Python you don’t need to do this. How can you swap a and b in one line?\n"
   ]
  },
  {
   "cell_type": "code",
   "execution_count": 13,
   "id": "ab91a184",
   "metadata": {},
   "outputs": [
    {
     "name": "stdout",
     "output_type": "stream",
     "text": [
      "10 20\n"
     ]
    }
   ],
   "source": [
    "a = 20\n",
    "b = 10\n",
    "\n",
    "a,b = b,a\n",
    "\n",
    "print(a,b)"
   ]
  },
  {
   "cell_type": "raw",
   "id": "f6183abd",
   "metadata": {},
   "source": [
    "Exercise 5.2: Zip\n",
    "\n",
    "Suppose we have two lists, x and y that give the x and y coordinates of a set of points. Create a list\n",
    "with the coordinates (x,y) as a tuple. Hint: Find out about the zip function.\n",
    "You have decided that actually, you need the two seperate lists, but unfortunately, you have thrown\n",
    "them away. How can we use zip to unzip the list of tuples to get two lists again?\n"
   ]
  },
  {
   "cell_type": "code",
   "execution_count": 16,
   "id": "05437051",
   "metadata": {},
   "outputs": [
    {
     "name": "stdout",
     "output_type": "stream",
     "text": [
      "[(0, 1), (2, 2), (4, 3), (6, 4), (8, 5)]\n",
      "(0, 2, 4, 6, 8) (1, 2, 3, 4, 5)\n"
     ]
    }
   ],
   "source": [
    "X=[0, 2, 4, 6, 8]\n",
    "Y=[1, 2, 3, 4, 5] \n",
    "\n",
    "zipped = zip(X,Y)\n",
    "zipped_list = list(zipped)\n",
    "\n",
    "print(zipped_list)\n",
    "\n",
    "# Unzip to get separate lists\n",
    "\n",
    "X1, Y1 = zip(*zipped_list)\n",
    "\n",
    "print(X1,Y1)"
   ]
  },
  {
   "cell_type": "raw",
   "id": "bfb96d82",
   "metadata": {},
   "source": [
    "Exercise 5.3: Distances\n",
    "\n",
    "Suppose we have two vectors, x and y, stored as tuples with n elements. Implement functions that\n",
    "compute the l1 and l2 distances between x and y. Note that n is not explicitly given."
   ]
  },
  {
   "cell_type": "code",
   "execution_count": 22,
   "id": "45ec218f",
   "metadata": {},
   "outputs": [
    {
     "name": "stdout",
     "output_type": "stream",
     "text": [
      "l1 distance >>  20\n",
      "l2 distance >>  10.770329614269007\n"
     ]
    }
   ],
   "source": [
    "X = [2, 4, 1, 6, 8]\n",
    "Y = [5, 4, 8, 3, 1]\n",
    "\n",
    "# l1 distance is absolute difference between x and y\n",
    "\n",
    "def l1(X,Y):\n",
    "    sum_ = 0\n",
    "    for i in range(len(X)):\n",
    "        sum_ = sum_ + abs(X[i] - Y[i])\n",
    "    return sum_\n",
    "print(\"l1 distance >> \" , l1(X,Y))\n",
    "\n",
    "# l2 distance is square root of the sum of (x-y)^2\n",
    "def l2(X,Y):\n",
    "    sum_square = 0\n",
    "    for i in range(len(X)):\n",
    "        diff = abs(X[i] - Y[i]) \n",
    "        square = diff * diff\n",
    "        sum_square = sum_square + square\n",
    "    return sum_square**(1/2)\n",
    "print(\"l2 distance >> \", l2(X,Y))"
   ]
  },
  {
   "cell_type": "raw",
   "id": "385f353a",
   "metadata": {},
   "source": [
    "# 6 Dictionaries\n",
    "\n",
    "Exercise 6.1: Printing a dictionary\n",
    "Write a function that prints key-value pairs of a dictionary."
   ]
  },
  {
   "cell_type": "code",
   "execution_count": 30,
   "id": "60cde570",
   "metadata": {},
   "outputs": [
    {
     "name": "stdout",
     "output_type": "stream",
     "text": [
      "1\n"
     ]
    }
   ],
   "source": [
    "def print_dictionary(dictionary):\n",
    "    print(dictionary)\n",
    "\n",
    "dict_ = {\n",
    "  \"a\": \"1\",\n",
    "  \"b\": \"2\",\n",
    "  \"c\": \"3\"\n",
    "}\n",
    "\n",
    "print_dictionary(dict_)"
   ]
  },
  {
   "cell_type": "raw",
   "id": "157fb2e9",
   "metadata": {},
   "source": [
    "Exercise 6.2: Histogram\n",
    "\n",
    "Write a function that takes a list, and returns a dictionary with keys the elements of the list and as\n",
    "value the number of occurances of that element in the list."
   ]
  },
  {
   "cell_type": "code",
   "execution_count": 32,
   "id": "b080c951",
   "metadata": {},
   "outputs": [
    {
     "name": "stdout",
     "output_type": "stream",
     "text": [
      "{1: 1, 2: 3, 3: 2}\n"
     ]
    }
   ],
   "source": [
    "def make_dictionary(l):\n",
    "    dict_ = {}\n",
    "    for i in l:\n",
    "        if(i in dict_):\n",
    "            num = dict_[i]\n",
    "            dict_[i] = num+1\n",
    "        else:\n",
    "            dict_[i] = 1\n",
    "    return dict_\n",
    "print(make_dictionary([1,2,2,2,3,3]))"
   ]
  },
  {
   "cell_type": "raw",
   "id": "41ff13ff",
   "metadata": {},
   "source": [
    "After you are done, look up ‘python collections counter’ in Google. Could you use a counter instead?\n",
    "- Yes. Importing counter from collections and using Counter(List) will give the number of occurences for every element."
   ]
  },
  {
   "cell_type": "raw",
   "id": "3169e798",
   "metadata": {},
   "source": [
    "Exercise 6.3: Get method\n",
    "\n",
    "Dictionaries have a get method, which takes a key and a default value. If the key is in the dictionary,\n",
    "it returns the value, otherwise, it returns the default value.\n",
    "Rewrite your code from the previous problem to make use of this get method."
   ]
  },
  {
   "cell_type": "code",
   "execution_count": 34,
   "id": "ab676dc2",
   "metadata": {},
   "outputs": [
    {
     "name": "stdout",
     "output_type": "stream",
     "text": [
      "{1: 1, 2: 3, 3: 2}\n"
     ]
    }
   ],
   "source": [
    "def make_dictionary(l):\n",
    "    dict_ = {}\n",
    "    for i in l:\n",
    "        if(i in dict_):\n",
    "            # Changed to get method\n",
    "            num = dict_.get(i)\n",
    "            dict_[i] = num+1\n",
    "        else:\n",
    "            dict_[i] = 1\n",
    "    return dict_\n",
    "print(make_dictionary([1,2,2,2,3,3]))"
   ]
  },
  {
   "cell_type": "raw",
   "id": "8efd7524",
   "metadata": {},
   "source": [
    "\n",
    "Exercise 6.4: Random text generator\n",
    "\n",
    "Process a line of text to extract (state, new_word) pairs."
   ]
  },
  {
   "cell_type": "code",
   "execution_count": 9,
   "id": "8bdc15a4",
   "metadata": {},
   "outputs": [
    {
     "name": "stdout",
     "output_type": "stream",
     "text": [
      "[('BEGIN', 'In'), ('night', 'In'), ('In', 'winter'), ('winter', 'I'), ('I', 'get'), ('get', 'up'), ('up', 'at'), ('at', 'night'), ('night', 'END')]\n"
     ]
    }
   ],
   "source": [
    "def process_line(line):\n",
    "    words = line.split()\n",
    "    process_l = []\n",
    "    for i in range(len(words)):\n",
    "        if(i == 0):\n",
    "            process_l.append((\"BEGIN\",words[i]))\n",
    "        if(i < len(words)):\n",
    "            process_l.append((words[i-1],words[i]))\n",
    "    process_l.append((words[len(words)-1], \"END\"))\n",
    "    return process_l\n",
    "print(process_line(\"In winter I get up at night\"))"
   ]
  },
  {
   "cell_type": "raw",
   "id": "57c1c1aa",
   "metadata": {},
   "source": [
    "Exercise 6.5: Vector functions\n",
    "    \n",
    "Let’s implement some vector functions. There are two types of vectors, normal or dense vectors, which\n",
    "we can represent using lists. For sparse vectors, where many of the elements are zero, this is inefficient.\n",
    "Instead, we use a dictionary with keys the indices of non-zero values, and then the value corresponding\n",
    "to the key is the value of the vector at that index. Hence, the vector [1, 2, 4] can be stored as a list: [1,\n",
    "2, 4] or as a dictionary {0:1, 1: 2, 2: 4}.\n",
    "\n",
    "a) Write a function that adds two (dense) vectors"
   ]
  },
  {
   "cell_type": "code",
   "execution_count": 23,
   "id": "73d9f421",
   "metadata": {},
   "outputs": [
    {
     "name": "stdout",
     "output_type": "stream",
     "text": [
      "[9, -5, 6]\n"
     ]
    }
   ],
   "source": [
    "def add_vectors(v1,v2):\n",
    "    new_l = []\n",
    "    for i in range(len(v1)):\n",
    "        new_l.append(v1[i]+v2[i]) \n",
    "    return new_l\n",
    "\n",
    "vector1 = [5,3,2]\n",
    "vector2 = [4,-8,4]\n",
    "print(add_vectors(vector1,vector2))"
   ]
  },
  {
   "cell_type": "raw",
   "id": "2199c78b",
   "metadata": {},
   "source": [
    "b) Write a function that multiplies (i.e. inner product) two (dense) vectors"
   ]
  },
  {
   "cell_type": "code",
   "execution_count": 26,
   "id": "51528d17",
   "metadata": {},
   "outputs": [
    {
     "name": "stdout",
     "output_type": "stream",
     "text": [
      "[20, -24, 8]\n"
     ]
    }
   ],
   "source": [
    "def mul_vectors(v1,v2):\n",
    "    new_l = []\n",
    "    for i in range(len(v1)):\n",
    "        new_l.append(v1[i]*v2[i]) \n",
    "    return new_l\n",
    "\n",
    "vector1 = [5,3,2]\n",
    "vector2 = [4,-8,4]\n",
    "print(mul_vectors(vector1,vector2))"
   ]
  },
  {
   "cell_type": "raw",
   "id": "d292a7a1",
   "metadata": {},
   "source": [
    "c) Write a function that adds two sparse vectors"
   ]
  },
  {
   "cell_type": "code",
   "execution_count": 32,
   "id": "36756101",
   "metadata": {},
   "outputs": [
    {
     "name": "stdout",
     "output_type": "stream",
     "text": [
      "{0: 2, 3: 8, 4: 4}\n",
      "{1: 5, 2: 2, 5: 2, 6: 3}\n",
      "[2, 5, 2, 8, 4, 2, 3, 0]\n"
     ]
    }
   ],
   "source": [
    "sparse_v1 = [2,0,0,8,4,0,0,0]\n",
    "\n",
    "sparse_v2 = [0,5,2,0,0,2,3,0]\n",
    "\n",
    "def sparse_to_dict(v):\n",
    "    dic = {}\n",
    "    for i in range(len(v)):\n",
    "        if v[i] != 0:\n",
    "            dic[i] = v[i]\n",
    "    return dic\n",
    "print(sparse_to_dict(sparse_v1))\n",
    "print(sparse_to_dict(sparse_v2))\n",
    "\n",
    "def add_sparse(v1,v2):\n",
    "    new_l = []\n",
    "    for i in range(len(v1)):\n",
    "        new_l.append(v1[i]+v2[i]) \n",
    "    return new_l\n",
    "\n",
    "print(add_sparse(sparse_v1,sparse_v2))"
   ]
  },
  {
   "cell_type": "raw",
   "id": "ff001130",
   "metadata": {},
   "source": [
    "d) Write a function that multiplies two sparse vectors"
   ]
  },
  {
   "cell_type": "code",
   "execution_count": 33,
   "id": "1687cd73",
   "metadata": {},
   "outputs": [
    {
     "name": "stdout",
     "output_type": "stream",
     "text": [
      "[0, 0, 0, 0, 0, 0, 0, 0]\n"
     ]
    }
   ],
   "source": [
    "def mul_sparse(v1,v2):\n",
    "    new_l = []\n",
    "    for i in range(len(v1)):\n",
    "        new_l.append(v1[i]*v2[i]) \n",
    "    return new_l\n",
    "\n",
    "print(mul_sparse(sparse_v1,sparse_v2))"
   ]
  },
  {
   "cell_type": "raw",
   "id": "93c1a5be",
   "metadata": {},
   "source": [
    "Exercise 6.6: Reverse look-up\n",
    "\n",
    "Dictionaries are made to look up values by keys. Suppose however, we want to find the key that is\n",
    "associated with some value. Write a function that takes a dictionary and a value, and returns the key\n",
    "associated with this value.\n"
   ]
  },
  {
   "cell_type": "code",
   "execution_count": 39,
   "id": "c13b57df",
   "metadata": {},
   "outputs": [
    {
     "name": "stdout",
     "output_type": "stream",
     "text": [
      "1\n"
     ]
    }
   ],
   "source": [
    "def find_key(dictionary,value):\n",
    "    for x in dictionary.keys():\n",
    "        if(dictionary[x] == value):\n",
    "            return x\n",
    "    return \"no match\"\n",
    "\n",
    "d = {0:\"h\",1:\"a\",2:\"y\",5:\"d\"}\n",
    "print(find_key(d,\"a\"))"
   ]
  },
  {
   "cell_type": "code",
   "execution_count": null,
   "id": "53b45bdf",
   "metadata": {},
   "outputs": [],
   "source": []
  }
 ],
 "metadata": {
  "kernelspec": {
   "display_name": "Python 3 (ipykernel)",
   "language": "python",
   "name": "python3"
  },
  "language_info": {
   "codemirror_mode": {
    "name": "ipython",
    "version": 3
   },
   "file_extension": ".py",
   "mimetype": "text/x-python",
   "name": "python",
   "nbconvert_exporter": "python",
   "pygments_lexer": "ipython3",
   "version": "3.9.7"
  }
 },
 "nbformat": 4,
 "nbformat_minor": 5
}
