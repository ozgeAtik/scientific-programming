{
 "cells": [
  {
   "cell_type": "markdown",
   "id": "31c40120",
   "metadata": {},
   "source": [
    "Exercise 9.5: Singular values\n",
    "\n",
    "Generate an n\u0002n matrix, denoted by C, where each entry is 1 with probability p and 0 otherwise. Use\n",
    "the linear algebra library of Scipy to compute the singular values of C. What can you say about the\n",
    "relationship between n, p and the largest singular value?"
   ]
  },
  {
   "cell_type": "code",
   "execution_count": 64,
   "id": "12b42602",
   "metadata": {},
   "outputs": [
    {
     "name": "stdout",
     "output_type": "stream",
     "text": [
      "80.48377506274903\n"
     ]
    }
   ],
   "source": [
    "import numpy as np\n",
    "import scipy.linalg\n",
    "\n",
    "# p = 0.6\n",
    "\n",
    "def singular_values(n):\n",
    "    C = np.random.random((n,n))\n",
    "    for i in range(0, n):\n",
    "        for j in range(0, n):\n",
    "            if C[i][j] <= p:\n",
    "                C[i][j] = 0\n",
    "            else:\n",
    "                C[i][j] = 1\n",
    "    return C\n",
    "\n",
    "# n -> 200\n",
    "\n",
    "a,b,c = scipy.linalg.svd(singular_values(200))\n",
    "print(b.max())"
   ]
  },
  {
   "cell_type": "markdown",
   "id": "d619f388",
   "metadata": {},
   "source": [
    "10 Scipy\n",
    "\n",
    "Exercise 10.1: Least squares\n",
    "Generate matrix A 2 Rm\u0002n with m > n. Also generate some vector b 2 Rm.\n",
    "Now \f",
    "nd x = arg minx kAx 􀀀 bk2.\n",
    "Print the norm of the residual.\n"
   ]
  },
  {
   "cell_type": "code",
   "execution_count": 8,
   "id": "64be9152",
   "metadata": {},
   "outputs": [
    {
     "name": "stdout",
     "output_type": "stream",
     "text": [
      "1.9839187815107653\n"
     ]
    }
   ],
   "source": [
    "# matrix A -> R^mxn where m > n\n",
    "A = np.random.rand(100,80)\n",
    "\n",
    "# vector b -> R^m\n",
    "b = np.random.rand(100,1)\n",
    "\n",
    "# find x using numpy leastsquares\n",
    "m = np.linalg.lstsq(A,b,rcond=None)[0]\n",
    "\n",
    "print(np.linalg.norm(m))\n"
   ]
  },
  {
   "cell_type": "markdown",
   "id": "479a9b29",
   "metadata": {},
   "source": [
    "Exercise 10.2: Optimization\n",
    "Find the maximum of the function\n",
    "f(x) = sin2(x 􀀀 2)e􀀀x2"
   ]
  },
  {
   "cell_type": "code",
   "execution_count": 9,
   "id": "60eaf126",
   "metadata": {},
   "outputs": [
    {
     "name": "stdout",
     "output_type": "stream",
     "text": [
      "Optimization terminated successfully.\n",
      "         Current function value: -0.911685\n",
      "         Iterations: 20\n",
      "         Function evaluations: 40\n",
      "[0.21625]\n"
     ]
    }
   ],
   "source": [
    "from scipy import optimize\n",
    "def f(x):\n",
    "    return np.sin(x-2)**2 * np.exp(-x**2)\n",
    "\n",
    "max_func = optimize.fmin(lambda x: -f(x),0)\n",
    "\n",
    "print(max_func)"
   ]
  },
  {
   "cell_type": "markdown",
   "id": "6656e491",
   "metadata": {},
   "source": [
    "Exercise 10.3: Pairwise distances\n",
    "\n",
    "Let X be a matrix with n rows and m columns. How can you compute the pairwise distances between\n",
    "every two rows?\n",
    "\n",
    "As an example application, consider n cities, and we are given their coordinates in two columns. Now\n",
    "we want a nice table that tells us for each two cities, how far they are apart.\n",
    "Again, make sure you make use of Scipy's functionality instead of writing your own routine."
   ]
  },
  {
   "cell_type": "code",
   "execution_count": 10,
   "id": "052f044c",
   "metadata": {},
   "outputs": [
    {
     "name": "stdout",
     "output_type": "stream",
     "text": [
      "[0.62001287 0.27087194 0.70046818 0.63328086 0.71690998 0.94545502\n",
      " 0.82437735 1.01417314 0.71689045 0.82458504 1.09550132 1.11624624\n",
      " 1.04987846 1.27502495 1.27604237 1.45167352 1.13010769 0.68718549\n",
      " 0.55516226 0.6191257  1.01259167 0.89805447 1.01708879 0.85532175\n",
      " 0.90038338 0.59382462 0.80258798 1.0973712  0.8448236  0.89480314\n",
      " 0.78429781 0.74677463 0.68025795 0.68088555 0.83844628 0.94063757\n",
      " 1.16251663 0.97889656 1.19044162 0.79250732 0.29475106 0.78679261\n",
      " 0.74711627 0.50480339 0.80970978]\n"
     ]
    }
   ],
   "source": [
    "from scipy.spatial import distance\n",
    "\n",
    "cities = np.random.rand(10,5)\n",
    "d = distance.pdist(cities)\n",
    "print(d)"
   ]
  },
  {
   "cell_type": "markdown",
   "id": "a39be5f1",
   "metadata": {},
   "source": [
    "11 Matplotlib\n",
    "\n",
    "Exercise 11.1: Plotting a function\n",
    "Plot the function\n",
    "f(x) = sin2(x 􀀀 2)e􀀀x2\n",
    "\n",
    "over the interval [0; 2]. Add proper axis labels, a title, etc."
   ]
  },
  {
   "cell_type": "code",
   "execution_count": 24,
   "id": "82d5c987",
   "metadata": {},
   "outputs": [
    {
     "data": {
      "image/png": "[encoded data removed]",
      "text/plain": [
       "<Figure size 432x288 with 1 Axes>"
      ]
     },
     "metadata": {
      "needs_background": "light"
     },
     "output_type": "display_data"
    }
   ],
   "source": [
    "import matplotlib.pyplot as plt\n",
    "\n",
    "def f(x):\n",
    "    return np.sin(x-2)**2 * np.exp(-x**2)\n",
    "\n",
    "x = np.arange(0,2,0.05)\n",
    "\n",
    "plt.plot(x,f(x))\n",
    "plt.xlabel('x')\n",
    "plt.ylabel('y')\n",
    "plt.title('graph of f(x)')\n",
    "plt.show()\n"
   ]
  },
  {
   "cell_type": "markdown",
   "id": "0b2a9a7a",
   "metadata": {},
   "source": [
    "Exercise 11.2: Data\n",
    "\n",
    "Create a data matrix X with 20 observations of 10 variables. Generate a vector b with parameters Then generate the response vector y = Xb+z where z is a vector with standard normally distributed variables.\n"
   ]
  },
  {
   "cell_type": "code",
   "execution_count": 65,
   "id": "b3eb7fbc",
   "metadata": {},
   "outputs": [
    {
     "data": {
      "image/png": "[encoded data removed]",
      "text/plain": [
       "<Figure size 432x288 with 1 Axes>"
      ]
     },
     "metadata": {
      "needs_background": "light"
     },
     "output_type": "display_data"
    }
   ],
   "source": [
    "import numpy.matlib as nm\n",
    "\n",
    "X = nm.randn((20,10))\n",
    "b = nm.randn((10,1))\n",
    "z = nm.randn((20,1))\n",
    "\n",
    "y = X * b + z\n",
    "\n",
    "x = np.linspace(0,9,10)\n",
    "B = np.linalg.solve(X.T*X, X.T*y)\n",
    "\n",
    "bb = plt.plot(x,b,'o',label = 'true parameters')\n",
    "BB = plt.plot(x,B,'x',label='estimated parameters')\n",
    "\n",
    "plt.ylabel('value')\n",
    "plt.xlabel('index')\n",
    "plt.title('parameter plot')\n",
    "plt.show()\n"
   ]
  },
  {
   "cell_type": "markdown",
   "id": "a95884f9",
   "metadata": {},
   "source": [
    "Exercise 11.3: Histogram and density estimation\n",
    "Generate a vector z of 10000 observations from your favorite exotic distribution. Then make a plot that shows a histogram of z (with 25 bins), along with an estimate for the density, using a Gaussian kernel density estimator (see scipy.stats). See Figure 2 for an example plot."
   ]
  },
  {
   "cell_type": "code",
   "execution_count": 41,
   "id": "c2866b5a",
   "metadata": {},
   "outputs": [
    {
     "data": {
      "image/png": "[encoded data removed]",
      "text/plain": [
       "<Figure size 432x288 with 1 Axes>"
      ]
     },
     "metadata": {
      "needs_background": "light"
     },
     "output_type": "display_data"
    }
   ],
   "source": [
    "from scipy import stats\n",
    "\n",
    "z = np.random.normal(size=10000)\n",
    "bins = 25\n",
    "n,bins,p=plt.hist(z,bins,density=True,stacked=True)\n",
    "y = stats.gaussian_kde(z)\n",
    "plt.plot(bins,y(bins),'g--')\n",
    "plt.title('histogram')\n",
    "plt.show()"
   ]
  },
  {
   "cell_type": "code",
   "execution_count": null,
   "id": "dfb8e591",
   "metadata": {},
   "outputs": [],
   "source": []
  }
 ],
 "metadata": {
  "kernelspec": {
   "display_name": "Python 3 (ipykernel)",
   "language": "python",
   "name": "python3"
  },
  "language_info": {
   "codemirror_mode": {
    "name": "ipython",
    "version": 3
   },
   "file_extension": ".py",
   "mimetype": "text/x-python",
   "name": "python",
   "nbconvert_exporter": "python",
   "pygments_lexer": "ipython3",
   "version": "3.9.7"
  }
 },
 "nbformat": 4,
 "nbformat_minor": 5
}
